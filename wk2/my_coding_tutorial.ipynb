{
 "cells": [
  {
   "cell_type": "code",
   "execution_count": 1,
   "id": "28914597",
   "metadata": {},
   "outputs": [],
   "source": [
    "import tensorflow as tf\n",
    "#tf.__version__"
   ]
  },
  {
   "cell_type": "code",
   "execution_count": 2,
   "id": "5ad90cba",
   "metadata": {},
   "outputs": [],
   "source": [
    "from tensorflow.keras.models import Sequential\n",
    "from tensorflow.keras.layers import Dense, Flatten, Softmax"
   ]
  },
  {
   "cell_type": "code",
   "execution_count": 21,
   "id": "467645c3",
   "metadata": {},
   "outputs": [],
   "source": [
    "model = Sequential()\n",
    "\n",
    "model.add(Flatten(input_shape=(28, 28)))\n",
    "model.add(Dense(16, activation = 'relu', name='L1'))\n",
    "model.add(Dense(16, activation = 'relu'))\n",
    "model.add(Dense(10, activation = 'softmax'))\n",
    "\n",
    "          "
   ]
  },
  {
   "cell_type": "code",
   "execution_count": null,
   "id": "53442159",
   "metadata": {},
   "outputs": [],
   "source": []
  },
  {
   "cell_type": "code",
   "execution_count": 22,
   "id": "838287be",
   "metadata": {},
   "outputs": [
    {
     "name": "stdout",
     "output_type": "stream",
     "text": [
      "Model: \"sequential_9\"\n",
      "_________________________________________________________________\n",
      "Layer (type)                 Output Shape              Param #   \n",
      "=================================================================\n",
      "flatten_2 (Flatten)          (None, 784)               0         \n",
      "_________________________________________________________________\n",
      "L1 (Dense)                   (None, 16)                12560     \n",
      "_________________________________________________________________\n",
      "dense_21 (Dense)             (None, 16)                272       \n",
      "_________________________________________________________________\n",
      "dense_22 (Dense)             (None, 10)                170       \n",
      "=================================================================\n",
      "Total params: 13,002\n",
      "Trainable params: 13,002\n",
      "Non-trainable params: 0\n",
      "_________________________________________________________________\n"
     ]
    }
   ],
   "source": [
    "model.summary()"
   ]
  },
  {
   "cell_type": "code",
   "execution_count": 20,
   "id": "f00e1fa6",
   "metadata": {},
   "outputs": [
    {
     "data": {
      "text/plain": [
       "[<tf.Variable 'dense_18/kernel:0' shape=(784, 16) dtype=float32, numpy=\n",
       " array([[-0.0759983 , -0.00703385, -0.0144285 , ..., -0.06935861,\n",
       "         -0.01109832,  0.06329183],\n",
       "        [ 0.07714288,  0.04314104,  0.05628167, ..., -0.02728546,\n",
       "         -0.0660646 ,  0.08218946],\n",
       "        [ 0.00563464, -0.0146206 ,  0.00891875, ...,  0.03107449,\n",
       "         -0.04429772,  0.04645698],\n",
       "        ...,\n",
       "        [ 0.05024508,  0.03401724, -0.01649886, ..., -0.06702437,\n",
       "          0.02257103, -0.01335689],\n",
       "        [-0.07457018, -0.03615485,  0.02388686, ...,  0.03711411,\n",
       "         -0.01083612, -0.04312925],\n",
       "        [-0.07952301,  0.06984013, -0.01583254, ...,  0.00319983,\n",
       "         -0.07358607, -0.05592603]], dtype=float32)>,\n",
       " <tf.Variable 'dense_18/bias:0' shape=(16,) dtype=float32, numpy=\n",
       " array([0., 0., 0., 0., 0., 0., 0., 0., 0., 0., 0., 0., 0., 0., 0., 0.],\n",
       "       dtype=float32)>,\n",
       " <tf.Variable 'dense_19/kernel:0' shape=(16, 16) dtype=float32, numpy=\n",
       " array([[-0.2229288 ,  0.29998788, -0.4056142 ,  0.3307719 , -0.14646393,\n",
       "         -0.11685458,  0.01206577, -0.20445143, -0.08882797, -0.35864925,\n",
       "         -0.15675452, -0.04677603, -0.32363805,  0.1544843 ,  0.07705536,\n",
       "          0.05193257],\n",
       "        [ 0.07676634, -0.08043686,  0.32938066, -0.3354517 , -0.23133446,\n",
       "         -0.10702133,  0.33450338, -0.4190489 , -0.40702525, -0.20604615,\n",
       "         -0.18808804, -0.30269554, -0.1426718 ,  0.29006186, -0.4225716 ,\n",
       "         -0.32080612],\n",
       "        [-0.00380877, -0.00500283,  0.18582836,  0.18177298,  0.23328236,\n",
       "         -0.388893  , -0.17663264, -0.28746283, -0.2513088 , -0.26971194,\n",
       "          0.25305405, -0.32752433,  0.2896171 , -0.0358212 , -0.08748773,\n",
       "          0.0196065 ],\n",
       "        [-0.28596506,  0.23508999,  0.29726616,  0.42126098,  0.12299559,\n",
       "          0.26035276, -0.3484842 , -0.4302903 , -0.11712587, -0.3435425 ,\n",
       "          0.28479567, -0.15605682, -0.07692325, -0.27093428, -0.22996056,\n",
       "          0.13662902],\n",
       "        [-0.34979635, -0.19773619,  0.16157737, -0.125256  , -0.27358803,\n",
       "          0.15893254, -0.4206184 ,  0.1411263 ,  0.22736701, -0.0682466 ,\n",
       "          0.12780389, -0.09376884,  0.07891378, -0.27080184, -0.20648532,\n",
       "         -0.30276906],\n",
       "        [ 0.13296637, -0.3653207 , -0.08870563,  0.3537182 , -0.27461296,\n",
       "          0.33213463, -0.05802217, -0.00795534,  0.12865654,  0.27887848,\n",
       "          0.12242076, -0.37841824, -0.32908952,  0.00642255, -0.10052794,\n",
       "          0.06795719],\n",
       "        [-0.21166994,  0.34706345, -0.3189094 ,  0.00606009, -0.21108396,\n",
       "          0.29465565, -0.22861475, -0.34595084,  0.13901243,  0.15614995,\n",
       "          0.21545693, -0.0905605 ,  0.03150377, -0.37627026,  0.37427744,\n",
       "          0.21594009],\n",
       "        [ 0.399982  ,  0.39796308, -0.39622694,  0.29162982, -0.16169819,\n",
       "         -0.0313133 ,  0.32315847,  0.02190438, -0.21212089,  0.42177543,\n",
       "         -0.14798245,  0.3699887 , -0.18842615, -0.17372236, -0.03639615,\n",
       "          0.22329351],\n",
       "        [-0.41880813,  0.08347878, -0.01343089, -0.1308536 , -0.39493346,\n",
       "         -0.15188909,  0.12681201,  0.10019079,  0.0940012 ,  0.36175725,\n",
       "          0.20987311,  0.29475322,  0.41480282, -0.11587   , -0.31805533,\n",
       "          0.22669306],\n",
       "        [ 0.10311356, -0.2681201 ,  0.15440348,  0.3509396 , -0.23377274,\n",
       "         -0.07680267,  0.1735551 , -0.056604  ,  0.24711874,  0.39745703,\n",
       "         -0.14751613,  0.29378048,  0.03459617, -0.11186445,  0.07540366,\n",
       "         -0.3385572 ],\n",
       "        [ 0.08702335, -0.06512043, -0.3234483 ,  0.21235397, -0.35221738,\n",
       "          0.12394509, -0.3335634 ,  0.18576458, -0.1173465 , -0.0234386 ,\n",
       "          0.22920963,  0.2715282 , -0.36349782,  0.41213325, -0.18490708,\n",
       "         -0.09743577],\n",
       "        [-0.35319155,  0.15756503, -0.14894164,  0.23900917,  0.21410933,\n",
       "          0.22022107,  0.24640468,  0.28034744,  0.42577752,  0.31967708,\n",
       "          0.34902307, -0.3576154 , -0.17377788, -0.20049925, -0.16709888,\n",
       "         -0.25366354],\n",
       "        [ 0.3746076 ,  0.11479786, -0.10674217,  0.3501874 ,  0.24735841,\n",
       "         -0.14399499, -0.40923816, -0.42755935, -0.40149292,  0.276024  ,\n",
       "         -0.38711378, -0.23962842,  0.16973206, -0.40640798,  0.12394837,\n",
       "          0.20447835],\n",
       "        [-0.39416724, -0.09011844, -0.31053823, -0.3072246 ,  0.3150964 ,\n",
       "         -0.34717152, -0.33951753, -0.23586807, -0.20648263, -0.33995846,\n",
       "         -0.28339908,  0.29803762, -0.24815539, -0.27657855,  0.3118576 ,\n",
       "         -0.3532669 ],\n",
       "        [-0.12858182,  0.39206675, -0.09396034,  0.3811821 ,  0.04087749,\n",
       "         -0.08048362,  0.32502756, -0.1100167 , -0.25757855,  0.0662834 ,\n",
       "         -0.33145815,  0.35166952,  0.02346006,  0.17432621, -0.20150541,\n",
       "          0.05921924],\n",
       "        [ 0.295737  ,  0.26685795, -0.3431092 , -0.08860901,  0.31156978,\n",
       "         -0.04098713, -0.28655827, -0.09269786,  0.39030382,  0.35747686,\n",
       "         -0.40664503,  0.42171934,  0.00572228, -0.11993811,  0.28223136,\n",
       "          0.33566138]], dtype=float32)>,\n",
       " <tf.Variable 'dense_19/bias:0' shape=(16,) dtype=float32, numpy=\n",
       " array([0., 0., 0., 0., 0., 0., 0., 0., 0., 0., 0., 0., 0., 0., 0., 0.],\n",
       "       dtype=float32)>,\n",
       " <tf.Variable 'dense_20/kernel:0' shape=(16, 10) dtype=float32, numpy=\n",
       " array([[-0.03106844, -0.29788917,  0.38768435,  0.27211386, -0.11605242,\n",
       "          0.15533322,  0.39634025, -0.2061173 , -0.39886865,  0.27546573],\n",
       "        [ 0.22046065,  0.3940245 , -0.29519147, -0.20589179,  0.15675879,\n",
       "          0.41284108,  0.41706043, -0.42357126,  0.3022446 , -0.25174662],\n",
       "        [-0.12880918,  0.22784185,  0.37665015,  0.2586394 ,  0.27428287,\n",
       "         -0.1752747 ,  0.171646  , -0.27458993, -0.2545914 ,  0.36016166],\n",
       "        [ 0.36956388, -0.27255926,  0.30998105, -0.12489951,  0.37584877,\n",
       "          0.19607025, -0.39733106, -0.45060164,  0.04787266, -0.45999756],\n",
       "        [ 0.36931914,  0.47735047,  0.4658007 , -0.34216392,  0.14857936,\n",
       "         -0.05317175,  0.01153401, -0.43232283,  0.08373708, -0.02671966],\n",
       "        [-0.2463448 ,  0.1657235 , -0.15239143,  0.42212427,  0.08067214,\n",
       "         -0.06856608,  0.31929952,  0.35534275, -0.4111951 , -0.3025818 ],\n",
       "        [-0.32612237, -0.12266165,  0.09946889,  0.13284266, -0.00814235,\n",
       "          0.23398882,  0.4513517 , -0.062058  , -0.46758214, -0.02162388],\n",
       "        [-0.02202919,  0.19212508,  0.42862123,  0.25551945, -0.29358917,\n",
       "         -0.37966326, -0.3919896 ,  0.27358353, -0.08445576,  0.31733793],\n",
       "        [-0.30904362,  0.34374243,  0.09642094,  0.03617018, -0.42417198,\n",
       "          0.2019844 , -0.1841219 , -0.41930172,  0.41603893,  0.18840027],\n",
       "        [-0.20679477, -0.37827626, -0.03577438, -0.35682616,  0.24149173,\n",
       "          0.1200937 , -0.10816756,  0.26587468,  0.20382506,  0.17293882],\n",
       "        [ 0.28201795, -0.1248017 , -0.31375262, -0.47685286, -0.20242843,\n",
       "         -0.09479278, -0.47807172, -0.16745019, -0.34680915, -0.10102689],\n",
       "        [ 0.33348703,  0.2572931 ,  0.19623542,  0.35237265,  0.46410298,\n",
       "          0.00295573, -0.32734787, -0.13767606,  0.37893552, -0.22051209],\n",
       "        [-0.1410777 , -0.14493573,  0.00712714, -0.12671393,  0.25039858,\n",
       "          0.02210456, -0.37782502,  0.2696514 ,  0.19215351,  0.46385133],\n",
       "        [-0.29768816,  0.2027064 ,  0.14420706,  0.4153003 ,  0.06548125,\n",
       "          0.30810213,  0.04864717, -0.00290993,  0.04927945,  0.24000335],\n",
       "        [ 0.05133981, -0.19607279,  0.04357541,  0.02659369,  0.04305875,\n",
       "          0.25651026,  0.31496334, -0.3132024 , -0.31725466, -0.36865163],\n",
       "        [-0.17256385,  0.2039516 ,  0.276991  , -0.12642142,  0.21004874,\n",
       "         -0.1653792 , -0.2274797 , -0.38760448,  0.4035678 ,  0.2873919 ]],\n",
       "       dtype=float32)>,\n",
       " <tf.Variable 'dense_20/bias:0' shape=(10,) dtype=float32, numpy=array([0., 0., 0., 0., 0., 0., 0., 0., 0., 0.], dtype=float32)>]"
      ]
     },
     "execution_count": 20,
     "metadata": {},
     "output_type": "execute_result"
    }
   ],
   "source": [
    "model.weights"
   ]
  },
  {
   "cell_type": "markdown",
   "id": "a8d45327",
   "metadata": {},
   "source": [
    "### Convolution "
   ]
  },
  {
   "cell_type": "code",
   "execution_count": 3,
   "id": "e8e444e7",
   "metadata": {},
   "outputs": [],
   "source": [
    "from tensorflow.keras.models import Sequential\n",
    "from tensorflow.keras.layers import Dense, Conv2D, Flatten, MaxPool2D"
   ]
  },
  {
   "cell_type": "code",
   "execution_count": 29,
   "id": "acbe80b2",
   "metadata": {},
   "outputs": [],
   "source": [
    "model2 = Sequential()\n",
    "model2.add(Conv2D(16, (3,3), activation='relu', strides = 2, input_shape=(28, 28, 1), padding='SAME'))\n",
    "model2.add(MaxPool2D((3,3)))\n",
    "model2.add(Flatten())\n",
    "model2.add(Dense(10, activation='softmax'))"
   ]
  },
  {
   "cell_type": "code",
   "execution_count": 30,
   "id": "2f824006",
   "metadata": {},
   "outputs": [
    {
     "name": "stdout",
     "output_type": "stream",
     "text": [
      "Model: \"sequential_4\"\n",
      "_________________________________________________________________\n",
      "Layer (type)                 Output Shape              Param #   \n",
      "=================================================================\n",
      "conv2d_4 (Conv2D)            (None, 14, 14, 16)        160       \n",
      "_________________________________________________________________\n",
      "max_pooling2d_4 (MaxPooling2 (None, 4, 4, 16)          0         \n",
      "_________________________________________________________________\n",
      "flatten_4 (Flatten)          (None, 256)               0         \n",
      "_________________________________________________________________\n",
      "dense_4 (Dense)              (None, 10)                2570      \n",
      "=================================================================\n",
      "Total params: 2,730\n",
      "Trainable params: 2,730\n",
      "Non-trainable params: 0\n",
      "_________________________________________________________________\n"
     ]
    }
   ],
   "source": [
    "model2.summary()"
   ]
  },
  {
   "cell_type": "code",
   "execution_count": 39,
   "id": "18115271",
   "metadata": {},
   "outputs": [],
   "source": [
    "#model2 = Sequential()\n",
    "#model2.add(Conv2D(16, (3,3), activation='relu', strides = 2, input_shape=(1, 28, 28), padding='SAME', data_format='channels_first'))\n",
    "#model2.add(MaxPool2D((3,3), data_format='channels_first'))\n",
    "#model2.add(Flatten())\n",
    "#model2.add(Dense(10, activation='softmax'))"
   ]
  },
  {
   "cell_type": "code",
   "execution_count": 40,
   "id": "7189daad",
   "metadata": {},
   "outputs": [
    {
     "name": "stdout",
     "output_type": "stream",
     "text": [
      "Model: \"sequential_20\"\n",
      "_________________________________________________________________\n",
      "Layer (type)                 Output Shape              Param #   \n",
      "=================================================================\n",
      "conv2d_8 (Conv2D)            (None, 16, 14, 14)        160       \n",
      "_________________________________________________________________\n",
      "max_pooling2d_5 (MaxPooling2 (None, 16, 4, 4)          0         \n",
      "_________________________________________________________________\n",
      "flatten_7 (Flatten)          (None, 256)               0         \n",
      "_________________________________________________________________\n",
      "dense_27 (Dense)             (None, 10)                2570      \n",
      "=================================================================\n",
      "Total params: 2,730\n",
      "Trainable params: 2,730\n",
      "Non-trainable params: 0\n",
      "_________________________________________________________________\n"
     ]
    }
   ],
   "source": [
    "#model2.summary()"
   ]
  },
  {
   "cell_type": "code",
   "execution_count": null,
   "id": "67a3e260",
   "metadata": {},
   "outputs": [],
   "source": []
  },
  {
   "cell_type": "markdown",
   "id": "5f94140b",
   "metadata": {},
   "source": [
    "### the compile method "
   ]
  },
  {
   "cell_type": "code",
   "execution_count": 58,
   "id": "cfcefa4c",
   "metadata": {},
   "outputs": [],
   "source": [
    "#opt = tf.keras.optimizers.Adam(learning_rate=0.005)\n",
    "#acc = tf.keras.metrics.SparseCategoricalAccuracy()\n",
    "#mae = tf.keras.metrics.MeanAbsoluteError()\n",
    "#model2.compile(optimizer=opt, loss='sparse_categorical_crossentropy', metrics=[acc, mae] )"
   ]
  },
  {
   "cell_type": "code",
   "execution_count": 31,
   "id": "6fbe7780",
   "metadata": {},
   "outputs": [],
   "source": [
    "acc = tf.keras.metrics.SparseCategoricalAccuracy()\n",
    "mae = tf.keras.metrics.MeanAbsoluteError()\n",
    "model2.compile(optimizer='adam', loss='sparse_categorical_crossentropy', metrics=[acc, mae]) #metrics=['accuracy']) # metrics=['accuracy', 'loss'] )"
   ]
  },
  {
   "cell_type": "code",
   "execution_count": 26,
   "id": "81ff7b87",
   "metadata": {},
   "outputs": [
    {
     "name": "stdout",
     "output_type": "stream",
     "text": [
      "sparse_categorical_crossentropy <tensorflow.python.keras.optimizer_v2.adam.Adam object at 0x0000026BBC008850>\n",
      "[]\n",
      "<tf.Variable 'learning_rate:0' shape=() dtype=float32, numpy=0.001>\n"
     ]
    }
   ],
   "source": [
    "print(model2.loss, model2.optimizer)\n",
    "print(model2.metrics)\n",
    "print(model2.optimizer.learning_rate)"
   ]
  },
  {
   "cell_type": "code",
   "execution_count": null,
   "id": "8f4cafb1",
   "metadata": {},
   "outputs": [],
   "source": []
  },
  {
   "cell_type": "markdown",
   "id": "5ba2ebfe",
   "metadata": {},
   "source": [
    "### fit method \n",
    "* redo model \n",
    "* redo compile"
   ]
  },
  {
   "cell_type": "code",
   "execution_count": 37,
   "id": "2e55ae05",
   "metadata": {},
   "outputs": [],
   "source": [
    "model2 = Sequential()\n",
    "model2.add(Conv2D(16, (3,3), activation='relu', input_shape=(28, 28, 1)))\n",
    "model2.add(MaxPool2D((3,3)))\n",
    "model2.add(Flatten())\n",
    "model2.add(Dense(10, activation='softmax'))"
   ]
  },
  {
   "cell_type": "code",
   "execution_count": 38,
   "id": "fcef31af",
   "metadata": {},
   "outputs": [
    {
     "name": "stdout",
     "output_type": "stream",
     "text": [
      "Model: \"sequential_6\"\n",
      "_________________________________________________________________\n",
      "Layer (type)                 Output Shape              Param #   \n",
      "=================================================================\n",
      "conv2d_6 (Conv2D)            (None, 26, 26, 16)        160       \n",
      "_________________________________________________________________\n",
      "max_pooling2d_6 (MaxPooling2 (None, 8, 8, 16)          0         \n",
      "_________________________________________________________________\n",
      "flatten_6 (Flatten)          (None, 1024)              0         \n",
      "_________________________________________________________________\n",
      "dense_6 (Dense)              (None, 10)                10250     \n",
      "=================================================================\n",
      "Total params: 10,410\n",
      "Trainable params: 10,410\n",
      "Non-trainable params: 0\n",
      "_________________________________________________________________\n"
     ]
    }
   ],
   "source": [
    "model2.summary()"
   ]
  },
  {
   "cell_type": "code",
   "execution_count": 39,
   "id": "b3864be1",
   "metadata": {},
   "outputs": [],
   "source": [
    "opt = tf.keras.optimizers.Adam(learning_rate=0.005)\n",
    "acc = tf.keras.metrics.SparseCategoricalAccuracy()\n",
    "mae = tf.keras.metrics.MeanAbsoluteError()\n",
    "#model2.compile(optimizer=opt, loss='sparse_categorical_crossentropy', metrics=[acc, mae] )\n",
    "#model2.compile(optimizer='adam', loss='sparse_categorical_crossentropy', metrics=[acc, mae])\n",
    "model2.compile(optimizer='adam', loss='sparse_categorical_crossentropy', metrics=['accuracy', mae])"
   ]
  },
  {
   "cell_type": "markdown",
   "id": "6a460437",
   "metadata": {},
   "source": [
    "#### getting data "
   ]
  },
  {
   "cell_type": "code",
   "execution_count": 7,
   "id": "2aa2f2a3",
   "metadata": {},
   "outputs": [],
   "source": [
    "from tensorflow.keras.preprocessing import image\n",
    "import matplotlib.pyplot as plt\n",
    "import numpy as np\n",
    "import pandas as pd"
   ]
  },
  {
   "cell_type": "code",
   "execution_count": 8,
   "id": "925b2442",
   "metadata": {},
   "outputs": [],
   "source": [
    "fashion_mnist_data = tf.keras.datasets.fashion_mnist\n",
    "(trn_img, trn_label), (tst_img, tst_label) = fashion_mnist_data.load_data()"
   ]
  },
  {
   "cell_type": "code",
   "execution_count": 9,
   "id": "8e0b1aea",
   "metadata": {},
   "outputs": [
    {
     "data": {
      "text/plain": [
       "(60000, 28, 28)"
      ]
     },
     "execution_count": 9,
     "metadata": {},
     "output_type": "execute_result"
    }
   ],
   "source": [
    "trn_img.shape"
   ]
  },
  {
   "cell_type": "code",
   "execution_count": 71,
   "id": "9797fcee",
   "metadata": {},
   "outputs": [
    {
     "name": "stdout",
     "output_type": "stream",
     "text": [
      "Help on package tensorflow.keras.datasets.fashion_mnist in tensorflow.keras.datasets:\n",
      "\n",
      "NAME\n",
      "    tensorflow.keras.datasets.fashion_mnist - Fashion-MNIST dataset.\n",
      "\n",
      "PACKAGE CONTENTS\n",
      "\n",
      "\n",
      "FILE\n",
      "    c:\\sw\\anaconda3\\envs\\tf-gpu3\\lib\\site-packages\\tensorflow\\keras\\datasets\\fashion_mnist\\__init__.py\n",
      "\n",
      "\n"
     ]
    }
   ],
   "source": [
    "help(fashion_mnist_data)"
   ]
  },
  {
   "cell_type": "code",
   "execution_count": 70,
   "id": "ef162b05",
   "metadata": {},
   "outputs": [
    {
     "data": {
      "text/plain": [
       "array([9, 0, 0, 3, 0, 2, 7, 2, 5, 5], dtype=uint8)"
      ]
     },
     "execution_count": 70,
     "metadata": {},
     "output_type": "execute_result"
    }
   ],
   "source": [
    "trn_label[:10]"
   ]
  },
  {
   "cell_type": "code",
   "execution_count": 12,
   "id": "4c5dbca0",
   "metadata": {},
   "outputs": [],
   "source": [
    "labels = ['T-shirt/top','Trouser','Pullover','Dress','Coat','Sandal','Shirt','Sneaker','Bag','Ankle boot']"
   ]
  },
  {
   "cell_type": "code",
   "execution_count": 74,
   "id": "301da42f",
   "metadata": {},
   "outputs": [
    {
     "name": "stdout",
     "output_type": "stream",
     "text": [
      "9\n"
     ]
    }
   ],
   "source": [
    "print(trn_label[0])"
   ]
  },
  {
   "cell_type": "code",
   "execution_count": 10,
   "id": "3640db62",
   "metadata": {},
   "outputs": [
    {
     "data": {
      "text/plain": [
       "(28, 28)"
      ]
     },
     "execution_count": 10,
     "metadata": {},
     "output_type": "execute_result"
    }
   ],
   "source": [
    "trn_img = trn_img / 255.\n",
    "tst_img = tst_img / 255.\n",
    "trn_img[0].shape"
   ]
  },
  {
   "cell_type": "code",
   "execution_count": 13,
   "id": "987d06e6",
   "metadata": {},
   "outputs": [
    {
     "name": "stdout",
     "output_type": "stream",
     "text": [
      "label:Ankle boot\n"
     ]
    }
   ],
   "source": [
    "img = trn_img[0, :,:]\n",
    "img\n",
    "plt.imshow(img)\n",
    "print(f'label:{labels[trn_label[0]]}')\n",
    "#plt.imgshow(trn_img[0, :,:])"
   ]
  },
  {
   "cell_type": "code",
   "execution_count": 40,
   "id": "c144f108",
   "metadata": {},
   "outputs": [
    {
     "name": "stdout",
     "output_type": "stream",
     "text": [
      "Epoch 1/10\n",
      "235/235 [==============================] - 1s 4ms/step - loss: 0.8378 - accuracy: 0.7338 - mean_absolute_error: 4.4200\n",
      "Epoch 2/10\n",
      "235/235 [==============================] - 1s 4ms/step - loss: 0.4771 - accuracy: 0.8319 - mean_absolute_error: 4.4200\n",
      "Epoch 3/10\n",
      "235/235 [==============================] - 1s 4ms/step - loss: 0.4158 - accuracy: 0.8558 - mean_absolute_error: 4.4200\n",
      "Epoch 4/10\n",
      "235/235 [==============================] - 1s 4ms/step - loss: 0.3875 - accuracy: 0.8654 - mean_absolute_error: 4.4200\n",
      "Epoch 5/10\n",
      "235/235 [==============================] - 1s 4ms/step - loss: 0.3690 - accuracy: 0.8719 - mean_absolute_error: 4.4200\n",
      "Epoch 6/10\n",
      "235/235 [==============================] - 1s 4ms/step - loss: 0.3560 - accuracy: 0.8745 - mean_absolute_error: 4.4200: 0s - loss: 0.3593 - accuracy: 0.8732 - mean_abso\n",
      "Epoch 7/10\n",
      "235/235 [==============================] - 1s 4ms/step - loss: 0.3461 - accuracy: 0.8778 - mean_absolute_error: 4.4200\n",
      "Epoch 8/10\n",
      "235/235 [==============================] - 1s 4ms/step - loss: 0.3369 - accuracy: 0.8817 - mean_absolute_error: 4.4200\n",
      "Epoch 9/10\n",
      "235/235 [==============================] - 1s 4ms/step - loss: 0.3294 - accuracy: 0.8831 - mean_absolute_error: 4.4200\n",
      "Epoch 10/10\n",
      "235/235 [==============================] - 1s 4ms/step - loss: 0.3244 - accuracy: 0.8854 - mean_absolute_error: 4.4200\n"
     ]
    }
   ],
   "source": [
    "history = model2.fit(trn_img[..., np.newaxis], trn_label, epochs=10, batch_size=256)"
   ]
  },
  {
   "cell_type": "code",
   "execution_count": 42,
   "id": "debb3dc0",
   "metadata": {},
   "outputs": [
    {
     "data": {
      "text/html": [
       "<div>\n",
       "<style scoped>\n",
       "    .dataframe tbody tr th:only-of-type {\n",
       "        vertical-align: middle;\n",
       "    }\n",
       "\n",
       "    .dataframe tbody tr th {\n",
       "        vertical-align: top;\n",
       "    }\n",
       "\n",
       "    .dataframe thead th {\n",
       "        text-align: right;\n",
       "    }\n",
       "</style>\n",
       "<table border=\"1\" class=\"dataframe\">\n",
       "  <thead>\n",
       "    <tr style=\"text-align: right;\">\n",
       "      <th></th>\n",
       "      <th>loss</th>\n",
       "      <th>accuracy</th>\n",
       "      <th>mean_absolute_error</th>\n",
       "    </tr>\n",
       "  </thead>\n",
       "  <tbody>\n",
       "    <tr>\n",
       "      <th>0</th>\n",
       "      <td>0.837817</td>\n",
       "      <td>0.733800</td>\n",
       "      <td>4.420000</td>\n",
       "    </tr>\n",
       "    <tr>\n",
       "      <th>1</th>\n",
       "      <td>0.477130</td>\n",
       "      <td>0.831900</td>\n",
       "      <td>4.420000</td>\n",
       "    </tr>\n",
       "    <tr>\n",
       "      <th>2</th>\n",
       "      <td>0.415795</td>\n",
       "      <td>0.855783</td>\n",
       "      <td>4.419999</td>\n",
       "    </tr>\n",
       "    <tr>\n",
       "      <th>3</th>\n",
       "      <td>0.387510</td>\n",
       "      <td>0.865400</td>\n",
       "      <td>4.419999</td>\n",
       "    </tr>\n",
       "    <tr>\n",
       "      <th>4</th>\n",
       "      <td>0.368980</td>\n",
       "      <td>0.871917</td>\n",
       "      <td>4.420001</td>\n",
       "    </tr>\n",
       "    <tr>\n",
       "      <th>5</th>\n",
       "      <td>0.355976</td>\n",
       "      <td>0.874517</td>\n",
       "      <td>4.420001</td>\n",
       "    </tr>\n",
       "    <tr>\n",
       "      <th>6</th>\n",
       "      <td>0.346053</td>\n",
       "      <td>0.877767</td>\n",
       "      <td>4.420001</td>\n",
       "    </tr>\n",
       "    <tr>\n",
       "      <th>7</th>\n",
       "      <td>0.336889</td>\n",
       "      <td>0.881667</td>\n",
       "      <td>4.420000</td>\n",
       "    </tr>\n",
       "    <tr>\n",
       "      <th>8</th>\n",
       "      <td>0.329369</td>\n",
       "      <td>0.883067</td>\n",
       "      <td>4.419999</td>\n",
       "    </tr>\n",
       "    <tr>\n",
       "      <th>9</th>\n",
       "      <td>0.324355</td>\n",
       "      <td>0.885433</td>\n",
       "      <td>4.420000</td>\n",
       "    </tr>\n",
       "  </tbody>\n",
       "</table>\n",
       "</div>"
      ],
      "text/plain": [
       "       loss  accuracy  mean_absolute_error\n",
       "0  0.837817  0.733800             4.420000\n",
       "1  0.477130  0.831900             4.420000\n",
       "2  0.415795  0.855783             4.419999\n",
       "3  0.387510  0.865400             4.419999\n",
       "4  0.368980  0.871917             4.420001\n",
       "5  0.355976  0.874517             4.420001\n",
       "6  0.346053  0.877767             4.420001\n",
       "7  0.336889  0.881667             4.420000\n",
       "8  0.329369  0.883067             4.419999\n",
       "9  0.324355  0.885433             4.420000"
      ]
     },
     "execution_count": 42,
     "metadata": {},
     "output_type": "execute_result"
    }
   ],
   "source": [
    "df = pd.DataFrame(history.history)\n",
    "df"
   ]
  },
  {
   "cell_type": "code",
   "execution_count": 50,
   "id": "f4f5bbe6",
   "metadata": {},
   "outputs": [
    {
     "data": {
      "text/plain": [
       "<AxesSubplot:>"
      ]
     },
     "execution_count": 50,
     "metadata": {},
     "output_type": "execute_result"
    },
    {
     "data": {
      "image/png": "[encoded data removed]",
      "text/plain": [
       "<Figure size 432x288 with 1 Axes>"
      ]
     },
     "metadata": {
      "needs_background": "light"
     },
     "output_type": "display_data"
    }
   ],
   "source": [
    "df['loss'].plot()"
   ]
  },
  {
   "cell_type": "code",
   "execution_count": 47,
   "id": "8c4ced50",
   "metadata": {},
   "outputs": [],
   "source": [
    "import matplotlib.pyplot as plt\n",
    "%matplotlib inline"
   ]
  },
  {
   "cell_type": "code",
   "execution_count": null,
   "id": "e1d627b4",
   "metadata": {},
   "outputs": [],
   "source": []
  },
  {
   "cell_type": "markdown",
   "id": "a76a4c33",
   "metadata": {},
   "source": [
    "### evaluate the model "
   ]
  },
  {
   "cell_type": "code",
   "execution_count": 57,
   "id": "7dd662ae",
   "metadata": {},
   "outputs": [
    {
     "name": "stdout",
     "output_type": "stream",
     "text": [
      "313/313 [==============================] - 1s 3ms/step - loss: 0.3567 - accuracy: 0.8771 - mean_absolute_error: 4.4200\n"
     ]
    }
   ],
   "source": [
    "res = model2.evaluate(tst_img[..., np.newaxis], tst_label) #, verbose=1)"
   ]
  },
  {
   "cell_type": "code",
   "execution_count": 58,
   "id": "c013ab52",
   "metadata": {},
   "outputs": [
    {
     "data": {
      "text/plain": [
       "(10000, 28, 28)"
      ]
     },
     "execution_count": 58,
     "metadata": {},
     "output_type": "execute_result"
    }
   ],
   "source": [
    "tst_img.shape"
   ]
  },
  {
   "cell_type": "code",
   "execution_count": 59,
   "id": "b54a1487",
   "metadata": {},
   "outputs": [
    {
     "name": "stdout",
     "output_type": "stream",
     "text": [
      "label: Bag\n"
     ]
    },
    {
     "data": {
      "image/png": "[encoded data removed]",
      "text/plain": [
       "<Figure size 432x288 with 1 Axes>"
      ]
     },
     "metadata": {
      "needs_background": "light"
     },
     "output_type": "display_data"
    }
   ],
   "source": [
    "random_idx = np.random.choice(tst_img.shape[0])\n",
    "random_idx = 30\n",
    "test_image = tst_img[random_idx]\n",
    "plt.imshow(test_image)\n",
    "print('label:',labels[tst_label[random_idx]])"
   ]
  },
  {
   "cell_type": "code",
   "execution_count": 61,
   "id": "1b344eea",
   "metadata": {},
   "outputs": [
    {
     "name": "stdout",
     "output_type": "stream",
     "text": [
      "Bag\n"
     ]
    }
   ],
   "source": [
    "yhat = model2.predict(test_image[np.newaxis, ..., np.newaxis])\n",
    "print (labels[np.argmax(yhat)])"
   ]
  },
  {
   "cell_type": "code",
   "execution_count": null,
   "id": "28690a84",
   "metadata": {},
   "outputs": [],
   "source": []
  }
 ],
 "metadata": {
  "kernelspec": {
   "display_name": "Python 3",
   "language": "python",
   "name": "python3"
  },
  "language_info": {
   "codemirror_mode": {
    "name": "ipython",
    "version": 3
   },
   "file_extension": ".py",
   "mimetype": "text/x-python",
   "name": "python",
   "nbconvert_exporter": "python",
   "pygments_lexer": "ipython3",
   "version": "3.9.6"
  }
 },
 "nbformat": 4,
 "nbformat_minor": 5
}
