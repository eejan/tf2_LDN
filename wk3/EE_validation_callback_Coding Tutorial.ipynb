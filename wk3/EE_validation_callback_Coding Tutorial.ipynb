{
 "cells": [
  {
   "cell_type": "code",
   "execution_count": 41,
   "metadata": {
    "scrolled": true
   },
   "outputs": [
    {
     "name": "stdout",
     "output_type": "stream",
     "text": [
      "2.0.0\n"
     ]
    }
   ],
   "source": [
    "import tensorflow as tf\n",
    "print(tf.__version__)"
   ]
  },
  {
   "cell_type": "markdown",
   "metadata": {},
   "source": [
    "# Validation, regularisation and callbacks"
   ]
  },
  {
   "cell_type": "markdown",
   "metadata": {},
   "source": [
    " ## Coding tutorials\n",
    " #### [1. Validation sets](#coding_tutorial_1)\n",
    " #### [2. Model regularisation](#coding_tutorial_2)\n",
    " #### [3. Introduction to callbacks](#coding_tutorial_3)\n",
    " #### [4. Early stopping / patience](#coding_tutorial_4)"
   ]
  },
  {
   "cell_type": "markdown",
   "metadata": {},
   "source": [
    "***\n",
    "<a id=\"coding_tutorial_1\"></a>\n",
    "## Validation sets"
   ]
  },
  {
   "cell_type": "markdown",
   "metadata": {},
   "source": [
    "#### Load the data"
   ]
  },
  {
   "cell_type": "code",
   "execution_count": 2,
   "metadata": {},
   "outputs": [],
   "source": [
    "# Load the diabetes dataset\n",
    "\n",
    "from sklearn.datasets import load_diabetes\n",
    "diabetes_dataset = load_diabetes()"
   ]
  },
  {
   "cell_type": "code",
   "execution_count": 3,
   "metadata": {},
   "outputs": [
    {
     "name": "stdout",
     "output_type": "stream",
     "text": [
      ".. _diabetes_dataset:\n",
      "\n",
      "Diabetes dataset\n",
      "----------------\n",
      "\n",
      "Ten baseline variables, age, sex, body mass index, average blood\n",
      "pressure, and six blood serum measurements were obtained for each of n =\n",
      "442 diabetes patients, as well as the response of interest, a\n",
      "quantitative measure of disease progression one year after baseline.\n",
      "\n",
      "**Data Set Characteristics:**\n",
      "\n",
      "  :Number of Instances: 442\n",
      "\n",
      "  :Number of Attributes: First 10 columns are numeric predictive values\n",
      "\n",
      "  :Target: Column 11 is a quantitative measure of disease progression one year after baseline\n",
      "\n",
      "  :Attribute Information:\n",
      "      - Age\n",
      "      - Sex\n",
      "      - Body mass index\n",
      "      - Average blood pressure\n",
      "      - S1\n",
      "      - S2\n",
      "      - S3\n",
      "      - S4\n",
      "      - S5\n",
      "      - S6\n",
      "\n",
      "Note: Each of these 10 feature variables have been mean centered and scaled by the standard deviation times `n_samples` (i.e. the sum of squares of each column totals 1).\n",
      "\n",
      "Source URL:\n",
      "http://www4.stat.ncsu.edu/~boos/var.select/diabetes.html\n",
      "\n",
      "For more information see:\n",
      "Bradley Efron, Trevor Hastie, Iain Johnstone and Robert Tibshirani (2004) \"Least Angle Regression,\" Annals of Statistics (with discussion), 407-499.\n",
      "(http://web.stanford.edu/~hastie/Papers/LARS/LeastAngle_2002.pdf)\n"
     ]
    }
   ],
   "source": [
    "print(diabetes_dataset[\"DESCR\"])"
   ]
  },
  {
   "cell_type": "code",
   "execution_count": 8,
   "metadata": {},
   "outputs": [
    {
     "name": "stdout",
     "output_type": "stream",
     "text": [
      "dict_keys(['data', 'target', 'DESCR', 'feature_names', 'data_filename', 'target_filename'])\n"
     ]
    }
   ],
   "source": [
    "# Save the input and target variables\n",
    "\n",
    "print(diabetes_dataset.keys())\n",
    "data = diabetes_dataset['data']\n",
    "target = diabetes_dataset['target']"
   ]
  },
  {
   "cell_type": "code",
   "execution_count": 9,
   "metadata": {},
   "outputs": [
    {
     "data": {
      "text/plain": [
       "array([-1.47194752e-02, -1.00165882e+00, -1.44579915e-01,  6.99512942e-01,\n",
       "       -2.22496178e-01, -7.15965848e-01, -1.83538046e-01, -1.15749134e+00,\n",
       "       -5.47147277e-01,  2.05006151e+00, -6.64021672e-01, -1.07957508e+00,\n",
       "        3.48889755e-01,  4.26806019e-01, -4.43258925e-01,  2.45001404e-01,\n",
       "        1.80071184e-01, -1.05621783e-01, -7.15965848e-01,  2.06043272e-01,\n",
       "       -1.09256112e+00, -1.33929596e+00, -1.09256112e+00,  1.20596866e+00,\n",
       "        4.13819975e-01,  6.47568766e-01, -1.96524090e-01, -8.71798376e-01,\n",
       "       -2.74440354e-01,  1.69943833e+00, -3.00412442e-01, -1.20943552e+00,\n",
       "        2.45262887e+00, -8.45826288e-01, -1.13151925e+00, -6.51035629e-01,\n",
       "        1.46568953e+00,  1.60853602e+00,  1.29687096e+00, -8.06868156e-01,\n",
       "       -6.77007716e-01, -1.26137969e+00, -1.18346343e+00, -7.80896068e-01,\n",
       "        1.38777327e+00, -1.28735178e+00,  4.91736239e-01, -1.31593871e-01,\n",
       "       -1.00165882e+00, -1.31593871e-01,  3.72247006e-02,  9.46247777e-01,\n",
       "       -1.20943552e+00, -6.25063541e-01,  3.87847887e-01, -3.13398486e-01,\n",
       "       -1.30033783e+00, -1.49512849e+00,  2.32015360e-01,  2.32015360e-01,\n",
       "       -1.18346343e+00, -1.05621783e-01, -1.30033783e+00, -3.13398486e-01,\n",
       "       -1.05360299e+00,  1.41113052e-01, -2.77055191e-02, -7.15965848e-01,\n",
       "        1.02154920e-01,  3.35903711e-01, -1.35228200e+00,  1.53061975e+00,\n",
       "        6.47568766e-01, -5.34161233e-01, -8.71798376e-01, -1.43019827e+00,\n",
       "        2.32015360e-01,  6.21596678e-01,  1.29687096e+00, -5.08189145e-01,\n",
       "       -1.18607827e-01, -1.31332387e+00, -1.30033783e+00,  7.51457118e-01,\n",
       "       -1.13151925e+00, -1.44579915e-01, -1.26137969e+00, -2.35482222e-01,\n",
       "       -1.43019827e+00, -5.34161233e-01, -7.02979804e-01,  1.54099096e-01,\n",
       "       -1.35228200e+00, -7.28951892e-01, -8.06868156e-01,  1.28127008e-01,\n",
       "       -2.77055191e-02,  1.64749415e+00, -7.80896068e-01, -8.97770464e-01,\n",
       "       -3.13398486e-01, -6.51035629e-01,  1.94617316e+00,  5.95624590e-01,\n",
       "       -7.41937936e-01, -1.28735178e+00, -2.35482222e-01, -1.05621783e-01,\n",
       "        1.03715008e+00, -9.23742551e-01, -6.25063541e-01, -1.20943552e+00,\n",
       "        1.21895470e+00,  1.88124294e+00,  1.37478723e+00,  9.98191953e-01,\n",
       "        1.59554997e+00,  1.67346624e+00,  3.48889755e-01,  6.21596678e-01,\n",
       "        6.21596678e-01,  2.70973492e-01,  3.61875799e-01, -8.84784420e-01,\n",
       "       -4.04300794e-01,  1.15140964e-01, -6.89993760e-01, -5.60133321e-01,\n",
       "       -4.82217057e-01,  1.50464767e+00,  1.58256393e+00,  7.61828325e-02,\n",
       "       -5.86105409e-01, -8.97770464e-01, -6.38049585e-01,  1.55659184e+00,\n",
       "       -8.71798376e-01,  1.66048019e+00,  2.38769865e+00,  1.67346624e+00,\n",
       "       -4.43258925e-01,  2.14096382e+00,  1.07610822e+00, -1.19644947e+00,\n",
       "        2.83959536e-01,  1.38777327e+00,  3.35903711e-01, -3.13398486e-01,\n",
       "       -7.28951892e-01, -3.39370574e-01,  1.76436855e+00, -8.32840244e-01,\n",
       "        1.81631272e+00, -1.05360299e+00,  5.82638546e-01,  4.39792063e-01,\n",
       "       -1.65096101e+00, -8.84784420e-01, -7.28951892e-01,  5.56666458e-01,\n",
       "       -1.28735178e+00,  8.42359425e-01,  2.57987448e-01, -2.74440354e-01,\n",
       "        8.03401293e-01, -1.20943552e+00, -1.06658903e+00,  8.81317557e-01,\n",
       "        1.50464767e+00, -1.73343121e-03, -1.36526805e+00, -1.01464486e+00,\n",
       "        1.85527085e+00, -6.64021672e-01, -1.47194752e-02, -3.26384530e-01,\n",
       "        1.10208030e+00,  9.46247777e-01, -9.23742551e-01, -1.47194752e-02,\n",
       "       -5.86105409e-01, -1.14450530e+00, -1.83538046e-01,  4.26806019e-01,\n",
       "        1.46568953e+00, -6.64021672e-01, -1.96524090e-01, -1.18607827e-01,\n",
       "       -1.44579915e-01, -9.49714639e-01,  1.81631272e+00,  3.35903711e-01,\n",
       "       -7.93882112e-01, -4.69231013e-01, -8.58812332e-01, -3.91314750e-01,\n",
       "       -1.04061695e+00, -3.00412442e-01, -1.31593871e-01, -8.06868156e-01,\n",
       "        7.61828325e-02, -1.46915640e+00,  5.69652502e-01,  9.07289645e-01,\n",
       "        1.62152206e+00, -6.89993760e-01,  5.69652502e-01,  6.47568766e-01,\n",
       "        3.72247006e-02, -9.75686727e-01,  5.04722283e-01, -1.06658903e+00,\n",
       "       -1.02763090e+00, -1.33929596e+00, -1.13151925e+00,  1.43971745e+00,\n",
       "        1.24492679e+00,  1.86825690e+00,  8.03401293e-01,  4.26806019e-01,\n",
       "       -9.62700683e-01, -7.67910024e-01,  1.29687096e+00, -2.77055191e-02,\n",
       "       -9.75686727e-01,  7.25485030e-01, -9.75686727e-01, -5.73119365e-01,\n",
       "        1.02154920e-01, -1.28735178e+00,  8.81317557e-01,  2.42386567e-02,\n",
       "        1.38777327e+00, -8.06868156e-01,  1.21895470e+00, -3.65342662e-01,\n",
       "       -1.10554717e+00, -1.04061695e+00,  1.36180118e+00,  1.42673140e+00,\n",
       "        1.59554997e+00,  3.22917667e-01, -1.05360299e+00, -1.36526805e+00,\n",
       "        4.52778107e-01, -3.52356618e-01, -9.62700683e-01, -1.31332387e+00,\n",
       "        1.37478723e+00,  8.16387337e-01,  1.95915920e+00,  1.17999657e+00,\n",
       "       -7.93882112e-01, -2.77055191e-02,  2.05006151e+00,  1.12526127e-02,\n",
       "        2.51755909e+00, -1.15749134e+00, -8.19854200e-01, -1.32630991e+00,\n",
       "       -1.46915640e+00, -6.38049585e-01,  2.02408942e+00, -4.69231013e-01,\n",
       "       -9.26357388e-02, -1.01464486e+00, -1.39124013e+00, -4.82217057e-01,\n",
       "        1.45270349e+00, -8.45826288e-01,  6.47568766e-01, -3.26384530e-01,\n",
       "        3.87847887e-01,  1.15402448e+00, -1.11853321e+00, -7.54923980e-01,\n",
       "        1.69943833e+00, -1.14450530e+00, -6.51035629e-01,  6.21596678e-01,\n",
       "        1.46568953e+00, -7.54923980e-01,  1.01117800e+00,  3.74861843e-01,\n",
       "        5.02107446e-02,  1.05013613e+00, -1.19644947e+00,  8.68331513e-01,\n",
       "       -9.36728595e-01, -1.09256112e+00,  2.33575448e+00,  1.24492679e+00,\n",
       "       -8.84784420e-01,  6.21596678e-01, -1.26137969e+00, -8.71798376e-01,\n",
       "       -8.19854200e-01, -1.57304475e+00, -3.00412442e-01, -8.97770464e-01,\n",
       "        1.59554997e+00, -1.13151925e+00,  5.95624590e-01,  1.08909426e+00,\n",
       "        1.30985701e+00, -3.65342662e-01, -1.40422618e+00,  2.57987448e-01,\n",
       "       -4.95203101e-01, -1.31593871e-01, -5.60133321e-01,  3.61875799e-01,\n",
       "       -1.05621783e-01,  1.41113052e-01, -6.66636509e-02, -7.15965848e-01,\n",
       "        8.81317557e-01,  4.91736239e-01, -5.60133321e-01,  5.04722283e-01,\n",
       "       -3.91314750e-01,  1.01117800e+00,  1.16701052e+00,  1.24492679e+00,\n",
       "        1.25791283e+00,  5.17708327e-01, -2.74440354e-01,  1.10208030e+00,\n",
       "       -9.62700683e-01, -2.22496178e-01,  1.19298261e+00,  6.08610634e-01,\n",
       "        1.53061975e+00,  1.54099096e-01, -1.04061695e+00, -7.28951892e-01,\n",
       "        1.99811734e+00, -7.93882112e-01,  8.03401293e-01, -7.41937936e-01,\n",
       "        8.29373381e-01,  1.43971745e+00,  3.35903711e-01, -5.08189145e-01,\n",
       "        6.21596678e-01, -1.70552003e-01, -1.70552003e-01, -8.32840244e-01,\n",
       "       -5.36776070e-02, -8.32840244e-01,  1.17999657e+00, -1.05360299e+00,\n",
       "       -9.75686727e-01, -5.60133321e-01,  1.55659184e+00, -1.19644947e+00,\n",
       "       -1.27436574e+00,  8.94303601e-01, -8.06868156e-01,  2.06304756e+00,\n",
       "        1.67346624e+00,  3.87847887e-01,  2.19290800e+00, -1.22242156e+00,\n",
       "        1.42673140e+00,  6.99512942e-01,  1.05013613e+00,  1.16701052e+00,\n",
       "       -3.78328706e-01,  1.93057228e-01, -1.15749134e+00,  5.82638546e-01,\n",
       "       -1.05360299e+00,  2.06043272e-01, -1.57565959e-01,  8.42359425e-01,\n",
       "       -4.04300794e-01,  1.07610822e+00,  1.20596866e+00, -1.45617035e+00,\n",
       "       -1.30033783e+00, -6.25063541e-01, -2.61454310e-01, -8.32840244e-01,\n",
       "       -1.07957508e+00,  8.68331513e-01, -1.04061695e+00,  6.34582722e-01,\n",
       "       -5.47147277e-01, -1.31332387e+00,  1.62152206e+00, -1.15749134e+00,\n",
       "       -4.43258925e-01, -1.07957508e+00,  1.56957789e+00,  1.37478723e+00,\n",
       "       -1.41721222e+00,  5.95624590e-01,  1.16701052e+00,  1.03715008e+00,\n",
       "        2.96945580e-01, -7.67910024e-01,  2.06043272e-01,  1.59554997e+00,\n",
       "        1.82929877e+00,  1.67346624e+00, -1.04061695e+00, -1.57565959e-01,\n",
       "        4.78750195e-01,  3.74861843e-01,  7.38471074e-01, -2.09510134e-01,\n",
       "        1.41374536e+00, -5.08189145e-01, -2.74440354e-01,  2.83959536e-01,\n",
       "        1.36180118e+00, -1.26137969e+00, -8.84784420e-01, -1.43019827e+00,\n",
       "       -7.96496949e-02,  7.77429206e-01,  1.05013613e+00, -7.93882112e-01,\n",
       "       -5.34161233e-01, -1.73343121e-03, -4.17286837e-01, -1.10554717e+00,\n",
       "        2.05006151e+00, -7.54923980e-01,  4.00833931e-01, -1.11853321e+00,\n",
       "        2.70973492e-01, -1.04061695e+00, -1.33929596e+00, -1.14450530e+00,\n",
       "       -1.35228200e+00,  3.35903711e-01, -6.25063541e-01, -2.61454310e-01,\n",
       "        8.81317557e-01, -1.23540761e+00])"
      ]
     },
     "execution_count": 9,
     "metadata": {},
     "output_type": "execute_result"
    }
   ],
   "source": [
    "# Normalise the target data (this will make clearer training curves)\n",
    "target = (target - target.mean(axis=0)) / target.std()\n",
    "target"
   ]
  },
  {
   "cell_type": "code",
   "execution_count": 10,
   "metadata": {},
   "outputs": [],
   "source": [
    "# Split the data into train and test sets\n",
    "from sklearn.model_selection import train_test_split\n",
    "train_data, test_data, train_target, test_target = train_test_split(data, target, test_size=0.1)\n"
   ]
  },
  {
   "cell_type": "code",
   "execution_count": 11,
   "metadata": {},
   "outputs": [
    {
     "data": {
      "text/plain": [
       "((397, 10), (45, 10), (397,), (45,))"
      ]
     },
     "execution_count": 11,
     "metadata": {},
     "output_type": "execute_result"
    }
   ],
   "source": [
    "train_data.shape, test_data.shape, train_target.shape, test_target.shape"
   ]
  },
  {
   "cell_type": "markdown",
   "metadata": {},
   "source": [
    "#### Train a feedforward neural network model"
   ]
  },
  {
   "cell_type": "code",
   "execution_count": 12,
   "metadata": {},
   "outputs": [],
   "source": [
    "# Build the model\n",
    "from tensorflow.keras.models import Sequential\n",
    "from tensorflow.keras.layers import Dense\n",
    "\n",
    "def get_model():\n",
    "    model = Sequential()\n",
    "    model.add(Dense(128, activation='relu', input_shape=(train_data.shape[1],)))\n",
    "    model.add(Dense(128, activation='relu'))\n",
    "    model.add(Dense(128, activation='relu'))\n",
    "    model.add(Dense(128, activation='relu'))\n",
    "    model.add(Dense(128, activation='relu'))\n",
    "    model.add(Dense(128, activation='relu'))\n",
    "    model.add(Dense(1))\n",
    "    return model\n",
    "\n",
    "\n",
    "\n"
   ]
  },
  {
   "cell_type": "code",
   "execution_count": 13,
   "metadata": {},
   "outputs": [
    {
     "name": "stdout",
     "output_type": "stream",
     "text": [
      "Model: \"sequential\"\n",
      "_________________________________________________________________\n",
      "Layer (type)                 Output Shape              Param #   \n",
      "=================================================================\n",
      "dense (Dense)                (None, 128)               1408      \n",
      "_________________________________________________________________\n",
      "dense_1 (Dense)              (None, 128)               16512     \n",
      "_________________________________________________________________\n",
      "dense_2 (Dense)              (None, 128)               16512     \n",
      "_________________________________________________________________\n",
      "dense_3 (Dense)              (None, 128)               16512     \n",
      "_________________________________________________________________\n",
      "dense_4 (Dense)              (None, 128)               16512     \n",
      "_________________________________________________________________\n",
      "dense_5 (Dense)              (None, 128)               16512     \n",
      "_________________________________________________________________\n",
      "dense_6 (Dense)              (None, 1)                 129       \n",
      "=================================================================\n",
      "Total params: 84,097\n",
      "Trainable params: 84,097\n",
      "Non-trainable params: 0\n",
      "_________________________________________________________________\n"
     ]
    }
   ],
   "source": [
    "# Print the model summary\n",
    "\n",
    "model = get_model()\n",
    "model.summary()"
   ]
  },
  {
   "cell_type": "code",
   "execution_count": 14,
   "metadata": {},
   "outputs": [],
   "source": [
    "# Compile the model\n",
    "model.compile(optimizer='adam', loss='mse', metrics=['mae'])\n"
   ]
  },
  {
   "cell_type": "code",
   "execution_count": 15,
   "metadata": {},
   "outputs": [
    {
     "name": "stdout",
     "output_type": "stream",
     "text": [
      "Train on 337 samples, validate on 60 samples\n",
      "Epoch 1/100\n",
      "337/337 [==============================] - 1s 4ms/sample - loss: 1.0199 - mae: 0.8720 - val_loss: 0.8968 - val_mae: 0.8042\n",
      "Epoch 2/100\n",
      "337/337 [==============================] - 0s 506us/sample - loss: 0.9427 - mae: 0.8367 - val_loss: 0.7348 - val_mae: 0.7254\n",
      "Epoch 3/100\n",
      "337/337 [==============================] - 0s 577us/sample - loss: 0.7419 - mae: 0.7442 - val_loss: 0.4957 - val_mae: 0.5810\n",
      "Epoch 4/100\n",
      "337/337 [==============================] - 0s 583us/sample - loss: 0.5631 - mae: 0.6015 - val_loss: 0.4419 - val_mae: 0.5248\n",
      "Epoch 5/100\n",
      "337/337 [==============================] - 0s 570us/sample - loss: 0.5133 - mae: 0.5621 - val_loss: 0.3888 - val_mae: 0.5024\n",
      "Epoch 6/100\n",
      "337/337 [==============================] - 0s 333us/sample - loss: 0.4849 - mae: 0.5647 - val_loss: 0.4414 - val_mae: 0.5285\n",
      "Epoch 7/100\n",
      "337/337 [==============================] - 0s 582us/sample - loss: 0.4942 - mae: 0.5614 - val_loss: 0.4358 - val_mae: 0.5171\n",
      "Epoch 8/100\n",
      "337/337 [==============================] - 0s 583us/sample - loss: 0.4721 - mae: 0.5359 - val_loss: 0.3720 - val_mae: 0.4685\n",
      "Epoch 9/100\n",
      "337/337 [==============================] - 0s 590us/sample - loss: 0.4611 - mae: 0.5444 - val_loss: 0.3918 - val_mae: 0.4941\n",
      "Epoch 10/100\n",
      "337/337 [==============================] - 0s 316us/sample - loss: 0.4438 - mae: 0.5350 - val_loss: 0.4046 - val_mae: 0.4981\n",
      "Epoch 11/100\n",
      "337/337 [==============================] - 0s 330us/sample - loss: 0.4374 - mae: 0.5211 - val_loss: 0.3639 - val_mae: 0.4706\n",
      "Epoch 12/100\n",
      "337/337 [==============================] - 0s 583us/sample - loss: 0.4664 - mae: 0.5495 - val_loss: 0.4872 - val_mae: 0.5517\n",
      "Epoch 13/100\n",
      "337/337 [==============================] - 0s 567us/sample - loss: 0.4601 - mae: 0.5307 - val_loss: 0.3701 - val_mae: 0.4824\n",
      "Epoch 14/100\n",
      "337/337 [==============================] - 0s 340us/sample - loss: 0.4519 - mae: 0.5358 - val_loss: 0.4034 - val_mae: 0.5079\n",
      "Epoch 15/100\n",
      "337/337 [==============================] - 0s 584us/sample - loss: 0.4237 - mae: 0.5230 - val_loss: 0.3745 - val_mae: 0.4818\n",
      "Epoch 16/100\n",
      "337/337 [==============================] - 0s 578us/sample - loss: 0.4099 - mae: 0.5044 - val_loss: 0.4130 - val_mae: 0.5078\n",
      "Epoch 17/100\n",
      "337/337 [==============================] - 0s 568us/sample - loss: 0.4012 - mae: 0.4967 - val_loss: 0.3687 - val_mae: 0.4760\n",
      "Epoch 18/100\n",
      "337/337 [==============================] - 0s 329us/sample - loss: 0.3989 - mae: 0.4993 - val_loss: 0.3836 - val_mae: 0.4818\n",
      "Epoch 19/100\n",
      "337/337 [==============================] - 0s 578us/sample - loss: 0.3909 - mae: 0.4916 - val_loss: 0.3879 - val_mae: 0.4845\n",
      "Epoch 20/100\n",
      "337/337 [==============================] - 0s 574us/sample - loss: 0.3787 - mae: 0.4838 - val_loss: 0.4110 - val_mae: 0.4961\n",
      "Epoch 21/100\n",
      "337/337 [==============================] - 0s 326us/sample - loss: 0.3707 - mae: 0.4777 - val_loss: 0.3850 - val_mae: 0.4715\n",
      "Epoch 22/100\n",
      "337/337 [==============================] - 0s 582us/sample - loss: 0.3633 - mae: 0.4753 - val_loss: 0.3937 - val_mae: 0.4840\n",
      "Epoch 23/100\n",
      "337/337 [==============================] - 0s 566us/sample - loss: 0.3628 - mae: 0.4750 - val_loss: 0.3826 - val_mae: 0.4789\n",
      "Epoch 24/100\n",
      "337/337 [==============================] - 0s 329us/sample - loss: 0.3779 - mae: 0.4868 - val_loss: 0.5045 - val_mae: 0.5589\n",
      "Epoch 25/100\n",
      "337/337 [==============================] - 0s 577us/sample - loss: 0.3604 - mae: 0.4707 - val_loss: 0.3900 - val_mae: 0.4947\n",
      "Epoch 26/100\n",
      "337/337 [==============================] - 0s 574us/sample - loss: 0.3304 - mae: 0.4572 - val_loss: 0.4397 - val_mae: 0.5126\n",
      "Epoch 27/100\n",
      "337/337 [==============================] - 0s 326us/sample - loss: 0.3349 - mae: 0.4594 - val_loss: 0.4731 - val_mae: 0.5283\n",
      "Epoch 28/100\n",
      "337/337 [==============================] - 0s 583us/sample - loss: 0.3049 - mae: 0.4305 - val_loss: 0.4255 - val_mae: 0.5208\n",
      "Epoch 29/100\n",
      "337/337 [==============================] - 0s 579us/sample - loss: 0.3261 - mae: 0.4506 - val_loss: 0.4996 - val_mae: 0.5532\n",
      "Epoch 30/100\n",
      "337/337 [==============================] - 0s 321us/sample - loss: 0.2959 - mae: 0.4325 - val_loss: 0.4622 - val_mae: 0.5220\n",
      "Epoch 31/100\n",
      "337/337 [==============================] - 0s 578us/sample - loss: 0.2896 - mae: 0.4155 - val_loss: 0.4392 - val_mae: 0.5252\n",
      "Epoch 32/100\n",
      "337/337 [==============================] - 0s 583us/sample - loss: 0.2705 - mae: 0.4126 - val_loss: 0.5196 - val_mae: 0.5618\n",
      "Epoch 33/100\n",
      "337/337 [==============================] - 0s 312us/sample - loss: 0.2805 - mae: 0.4102 - val_loss: 0.5050 - val_mae: 0.5595\n",
      "Epoch 34/100\n",
      "337/337 [==============================] - 0s 337us/sample - loss: 0.2484 - mae: 0.3991 - val_loss: 0.5448 - val_mae: 0.5752\n",
      "Epoch 35/100\n",
      "337/337 [==============================] - 0s 581us/sample - loss: 0.2653 - mae: 0.4042 - val_loss: 0.5346 - val_mae: 0.5643\n",
      "Epoch 36/100\n",
      "337/337 [==============================] - 0s 584us/sample - loss: 0.2509 - mae: 0.3885 - val_loss: 0.6294 - val_mae: 0.6279\n",
      "Epoch 37/100\n",
      "337/337 [==============================] - 0s 319us/sample - loss: 0.2797 - mae: 0.4173 - val_loss: 0.6210 - val_mae: 0.6279\n",
      "Epoch 38/100\n",
      "337/337 [==============================] - 0s 579us/sample - loss: 0.2549 - mae: 0.3891 - val_loss: 0.5128 - val_mae: 0.5626\n",
      "Epoch 39/100\n",
      "337/337 [==============================] - 0s 583us/sample - loss: 0.2390 - mae: 0.3750 - val_loss: 0.4685 - val_mae: 0.5442\n",
      "Epoch 40/100\n",
      "337/337 [==============================] - 0s 566us/sample - loss: 0.2019 - mae: 0.3557 - val_loss: 0.6302 - val_mae: 0.6162\n",
      "Epoch 41/100\n",
      "337/337 [==============================] - 0s 333us/sample - loss: 0.2583 - mae: 0.3975 - val_loss: 0.6478 - val_mae: 0.6239\n",
      "Epoch 42/100\n",
      "337/337 [==============================] - 0s 578us/sample - loss: 0.2227 - mae: 0.3602 - val_loss: 0.5249 - val_mae: 0.5556\n",
      "Epoch 43/100\n",
      "337/337 [==============================] - 0s 580us/sample - loss: 0.1988 - mae: 0.3560 - val_loss: 0.5479 - val_mae: 0.5795\n",
      "Epoch 44/100\n",
      "337/337 [==============================] - 0s 319us/sample - loss: 0.1754 - mae: 0.3251 - val_loss: 0.5285 - val_mae: 0.5744\n",
      "Epoch 45/100\n",
      "337/337 [==============================] - 0s 584us/sample - loss: 0.2666 - mae: 0.4153 - val_loss: 0.6185 - val_mae: 0.6022\n",
      "Epoch 46/100\n",
      "337/337 [==============================] - 0s 584us/sample - loss: 0.2297 - mae: 0.3682 - val_loss: 0.6593 - val_mae: 0.6221\n",
      "Epoch 47/100\n",
      "337/337 [==============================] - 0s 312us/sample - loss: 0.2245 - mae: 0.3710 - val_loss: 0.4696 - val_mae: 0.5289\n",
      "Epoch 48/100\n",
      "337/337 [==============================] - 0s 588us/sample - loss: 0.1750 - mae: 0.3273 - val_loss: 0.5668 - val_mae: 0.5751\n",
      "Epoch 49/100\n",
      "337/337 [==============================] - 0s 585us/sample - loss: 0.1618 - mae: 0.3143 - val_loss: 0.5823 - val_mae: 0.5904\n",
      "Epoch 50/100\n",
      "337/337 [==============================] - 0s 582us/sample - loss: 0.1695 - mae: 0.3138 - val_loss: 0.6026 - val_mae: 0.6061\n",
      "Epoch 51/100\n",
      "337/337 [==============================] - 0s 313us/sample - loss: 0.1451 - mae: 0.2917 - val_loss: 0.5451 - val_mae: 0.5640\n",
      "Epoch 52/100\n",
      "337/337 [==============================] - 0s 331us/sample - loss: 0.1312 - mae: 0.2758 - val_loss: 0.5828 - val_mae: 0.5819\n",
      "Epoch 53/100\n",
      "337/337 [==============================] - 0s 583us/sample - loss: 0.1281 - mae: 0.2773 - val_loss: 0.5968 - val_mae: 0.5874\n",
      "Epoch 54/100\n",
      "337/337 [==============================] - 0s 566us/sample - loss: 0.1213 - mae: 0.2650 - val_loss: 0.6396 - val_mae: 0.6215\n",
      "Epoch 55/100\n",
      "337/337 [==============================] - 0s 335us/sample - loss: 0.1191 - mae: 0.2628 - val_loss: 0.6016 - val_mae: 0.5958\n",
      "Epoch 56/100\n",
      "337/337 [==============================] - 0s 581us/sample - loss: 0.1174 - mae: 0.2666 - val_loss: 0.5606 - val_mae: 0.5700\n",
      "Epoch 57/100\n",
      "337/337 [==============================] - 0s 568us/sample - loss: 0.1215 - mae: 0.2697 - val_loss: 0.5743 - val_mae: 0.5762\n",
      "Epoch 58/100\n",
      "337/337 [==============================] - 0s 323us/sample - loss: 0.0986 - mae: 0.2365 - val_loss: 0.6147 - val_mae: 0.5876\n",
      "Epoch 59/100\n",
      "337/337 [==============================] - 0s 587us/sample - loss: 0.1051 - mae: 0.2475 - val_loss: 0.6190 - val_mae: 0.5922\n",
      "Epoch 60/100\n",
      "337/337 [==============================] - 0s 575us/sample - loss: 0.0990 - mae: 0.2400 - val_loss: 0.6355 - val_mae: 0.6133\n",
      "Epoch 61/100\n",
      "337/337 [==============================] - 0s 314us/sample - loss: 0.1025 - mae: 0.2443 - val_loss: 0.5700 - val_mae: 0.5805\n",
      "Epoch 62/100\n",
      "337/337 [==============================] - 0s 589us/sample - loss: 0.1379 - mae: 0.3007 - val_loss: 0.5846 - val_mae: 0.5675\n",
      "Epoch 63/100\n",
      "337/337 [==============================] - 0s 571us/sample - loss: 0.1193 - mae: 0.2679 - val_loss: 0.5641 - val_mae: 0.5730\n",
      "Epoch 64/100\n",
      "337/337 [==============================] - 0s 325us/sample - loss: 0.1037 - mae: 0.2483 - val_loss: 0.6274 - val_mae: 0.6037\n",
      "Epoch 65/100\n",
      "337/337 [==============================] - 0s 582us/sample - loss: 0.0960 - mae: 0.2303 - val_loss: 0.5843 - val_mae: 0.5854\n",
      "Epoch 66/100\n",
      "337/337 [==============================] - 0s 583us/sample - loss: 0.0942 - mae: 0.2363 - val_loss: 0.6948 - val_mae: 0.6292\n",
      "Epoch 67/100\n",
      "337/337 [==============================] - 0s 573us/sample - loss: 0.0943 - mae: 0.2392 - val_loss: 0.6264 - val_mae: 0.5980\n",
      "Epoch 68/100\n",
      "337/337 [==============================] - 0s 328us/sample - loss: 0.0930 - mae: 0.2329 - val_loss: 0.6703 - val_mae: 0.6394\n",
      "Epoch 69/100\n",
      "337/337 [==============================] - 0s 574us/sample - loss: 0.0945 - mae: 0.2307 - val_loss: 0.6069 - val_mae: 0.5902\n",
      "Epoch 70/100\n",
      "337/337 [==============================] - 0s 568us/sample - loss: 0.0854 - mae: 0.2233 - val_loss: 0.6020 - val_mae: 0.6070\n",
      "Epoch 71/100\n",
      "337/337 [==============================] - 0s 330us/sample - loss: 0.0797 - mae: 0.2161 - val_loss: 0.6713 - val_mae: 0.6298\n",
      "Epoch 72/100\n",
      "337/337 [==============================] - 0s 580us/sample - loss: 0.0764 - mae: 0.2104 - val_loss: 0.5937 - val_mae: 0.5873\n",
      "Epoch 73/100\n",
      "337/337 [==============================] - 0s 565us/sample - loss: 0.0890 - mae: 0.2289 - val_loss: 0.6584 - val_mae: 0.6337\n",
      "Epoch 74/100\n",
      "337/337 [==============================] - 0s 335us/sample - loss: 0.0944 - mae: 0.2352 - val_loss: 0.7003 - val_mae: 0.6621\n",
      "Epoch 75/100\n",
      "337/337 [==============================] - 0s 582us/sample - loss: 0.0922 - mae: 0.2369 - val_loss: 0.6932 - val_mae: 0.6447\n",
      "Epoch 76/100\n",
      "337/337 [==============================] - 0s 585us/sample - loss: 0.0908 - mae: 0.2345 - val_loss: 0.6163 - val_mae: 0.5808\n",
      "Epoch 77/100\n",
      "337/337 [==============================] - 0s 564us/sample - loss: 0.1379 - mae: 0.2993 - val_loss: 0.6035 - val_mae: 0.5882\n",
      "Epoch 78/100\n",
      "337/337 [==============================] - 0s 333us/sample - loss: 0.1255 - mae: 0.2824 - val_loss: 0.6295 - val_mae: 0.6266\n",
      "Epoch 79/100\n",
      "337/337 [==============================] - 0s 579us/sample - loss: 0.1061 - mae: 0.2563 - val_loss: 0.6412 - val_mae: 0.6311\n",
      "Epoch 80/100\n",
      "337/337 [==============================] - 0s 583us/sample - loss: 0.0841 - mae: 0.2265 - val_loss: 0.6082 - val_mae: 0.6018\n",
      "Epoch 81/100\n",
      "337/337 [==============================] - 0s 316us/sample - loss: 0.0682 - mae: 0.1944 - val_loss: 0.6143 - val_mae: 0.6050\n",
      "Epoch 82/100\n",
      "337/337 [==============================] - 0s 583us/sample - loss: 0.0619 - mae: 0.1824 - val_loss: 0.6103 - val_mae: 0.6028\n",
      "Epoch 83/100\n",
      "337/337 [==============================] - 0s 592us/sample - loss: 0.0652 - mae: 0.1905 - val_loss: 0.6309 - val_mae: 0.6064\n",
      "Epoch 84/100\n",
      "337/337 [==============================] - 0s 585us/sample - loss: 0.0601 - mae: 0.1851 - val_loss: 0.6443 - val_mae: 0.6225\n",
      "Epoch 85/100\n",
      "337/337 [==============================] - 0s 568us/sample - loss: 0.0655 - mae: 0.1979 - val_loss: 0.6452 - val_mae: 0.6248\n",
      "Epoch 86/100\n",
      "337/337 [==============================] - 0s 332us/sample - loss: 0.0556 - mae: 0.1767 - val_loss: 0.6681 - val_mae: 0.6422\n",
      "Epoch 87/100\n",
      "337/337 [==============================] - 0s 577us/sample - loss: 0.0534 - mae: 0.1698 - val_loss: 0.6863 - val_mae: 0.6383\n",
      "Epoch 88/100\n",
      "337/337 [==============================] - 0s 587us/sample - loss: 0.0517 - mae: 0.1654 - val_loss: 0.6458 - val_mae: 0.6094\n",
      "Epoch 89/100\n",
      "337/337 [==============================] - 0s 311us/sample - loss: 0.0512 - mae: 0.1672 - val_loss: 0.6411 - val_mae: 0.6228\n",
      "Epoch 90/100\n",
      "337/337 [==============================] - 0s 578us/sample - loss: 0.0476 - mae: 0.1539 - val_loss: 0.6630 - val_mae: 0.6379\n",
      "Epoch 91/100\n",
      "337/337 [==============================] - 0s 574us/sample - loss: 0.0556 - mae: 0.1767 - val_loss: 0.6887 - val_mae: 0.6420\n",
      "Epoch 92/100\n",
      "337/337 [==============================] - 0s 326us/sample - loss: 0.0555 - mae: 0.1782 - val_loss: 0.7139 - val_mae: 0.6568\n",
      "Epoch 93/100\n",
      "337/337 [==============================] - 0s 577us/sample - loss: 0.0484 - mae: 0.1643 - val_loss: 0.6521 - val_mae: 0.6284\n",
      "Epoch 94/100\n",
      "337/337 [==============================] - 0s 575us/sample - loss: 0.0434 - mae: 0.1493 - val_loss: 0.6062 - val_mae: 0.5999\n",
      "Epoch 95/100\n",
      "337/337 [==============================] - 0s 330us/sample - loss: 0.0418 - mae: 0.1466 - val_loss: 0.6396 - val_mae: 0.6199\n",
      "Epoch 96/100\n",
      "337/337 [==============================] - 0s 578us/sample - loss: 0.0455 - mae: 0.1561 - val_loss: 0.6590 - val_mae: 0.6274\n",
      "Epoch 97/100\n",
      "337/337 [==============================] - 0s 585us/sample - loss: 0.0411 - mae: 0.1467 - val_loss: 0.6259 - val_mae: 0.6146\n",
      "Epoch 98/100\n",
      "337/337 [==============================] - 0s 314us/sample - loss: 0.0425 - mae: 0.1503 - val_loss: 0.6365 - val_mae: 0.6196\n",
      "Epoch 99/100\n",
      "337/337 [==============================] - 0s 335us/sample - loss: 0.0415 - mae: 0.1461 - val_loss: 0.6296 - val_mae: 0.6095\n",
      "Epoch 100/100\n",
      "337/337 [==============================] - 0s 586us/sample - loss: 0.0395 - mae: 0.1417 - val_loss: 0.6443 - val_mae: 0.6309\n"
     ]
    }
   ],
   "source": [
    "# Train the model, with some of the data reserved for validation\n",
    "history = model.fit(train_data, train_target, epochs=100, validation_split=0.15, batch_size=64)\n",
    "\n"
   ]
  },
  {
   "cell_type": "code",
   "execution_count": 16,
   "metadata": {},
   "outputs": [
    {
     "name": "stdout",
     "output_type": "stream",
     "text": [
      "45/1 - 0s - loss: 1.1188 - mae: 0.7884\n"
     ]
    },
    {
     "data": {
      "text/plain": [
       "[0.8991595082812839, 0.7883945]"
      ]
     },
     "execution_count": 16,
     "metadata": {},
     "output_type": "execute_result"
    }
   ],
   "source": [
    "# Evaluate the model on the test set\n",
    "model.evaluate(test_data, test_target, verbose=2)\n"
   ]
  },
  {
   "cell_type": "markdown",
   "metadata": {},
   "source": [
    "#### Plot the learning curves"
   ]
  },
  {
   "cell_type": "code",
   "execution_count": 17,
   "metadata": {},
   "outputs": [],
   "source": [
    "import matplotlib.pyplot as plt\n",
    "%matplotlib inline"
   ]
  },
  {
   "cell_type": "code",
   "execution_count": 18,
   "metadata": {},
   "outputs": [
    {
     "data": {
      "image/png": "[encoded data removed]",
      "text/plain": [
       "<Figure size 432x288 with 1 Axes>"
      ]
     },
     "metadata": {
      "needs_background": "light"
     },
     "output_type": "display_data"
    }
   ],
   "source": [
    "# Plot the training and validation loss\n",
    "\n",
    "plt.plot(history.history['loss'])\n",
    "plt.plot(history.history['val_loss'])\n",
    "plt.title('Loss vs. epochs')\n",
    "plt.ylabel('Loss')\n",
    "plt.xlabel('Epoch')\n",
    "plt.legend(['Training', 'Validation'], loc='upper right')\n",
    "plt.show()"
   ]
  },
  {
   "cell_type": "markdown",
   "metadata": {},
   "source": [
    "***\n",
    "<a id=\"coding_tutorial_2\"></a>\n",
    "## Model regularisation"
   ]
  },
  {
   "cell_type": "markdown",
   "metadata": {},
   "source": [
    "#### Adding regularisation with weight decay and dropout"
   ]
  },
  {
   "cell_type": "code",
   "execution_count": 23,
   "metadata": {},
   "outputs": [],
   "source": [
    "from tensorflow.keras.layers import Dropout\n",
    "from tensorflow.keras import regularizers"
   ]
  },
  {
   "cell_type": "code",
   "execution_count": 24,
   "metadata": {},
   "outputs": [],
   "source": [
    "def get_regularised_model(wd, rate):\n",
    "    model = Sequential([\n",
    "        Dense(128, kernel_regularizer= regularizers.l2(wd), activation=\"relu\", input_shape=(train_data.shape[1],)),\n",
    "        Dropout(rate) , \n",
    "        Dense(128, kernel_regularizer = regularizers.l2(wd), activation=\"relu\"),\n",
    "        Dropout(rate) , \n",
    "        Dense(128, kernel_regularizer = regularizers.l2(wd), activation=\"relu\"),\n",
    "        Dropout(rate) , \n",
    "        Dense(128, kernel_regularizer = regularizers.l2(wd), activation=\"relu\"),\n",
    "        Dropout(rate) , \n",
    "        Dense(128, kernel_regularizer = regularizers.l2(wd), activation=\"relu\"),\n",
    "        Dropout(rate) , \n",
    "        Dense(128, kernel_regularizer = regularizers.l2(wd), activation=\"relu\"),\n",
    "        Dropout(rate) , \n",
    "        Dense(1)\n",
    "    ])\n",
    "    return model"
   ]
  },
  {
   "cell_type": "code",
   "execution_count": 30,
   "metadata": {},
   "outputs": [],
   "source": [
    "# Re-build the model with weight decay and dropout layers\n",
    "model = get_regularised_model(1e-5, 0.3)\n",
    "\n"
   ]
  },
  {
   "cell_type": "code",
   "execution_count": 31,
   "metadata": {},
   "outputs": [],
   "source": [
    "# Compile the model\n",
    "model.compile(optimizer='adam', loss='mse', metrics=['mae'])\n"
   ]
  },
  {
   "cell_type": "code",
   "execution_count": 32,
   "metadata": {},
   "outputs": [
    {
     "name": "stdout",
     "output_type": "stream",
     "text": [
      "Train on 337 samples, validate on 60 samples\n",
      "Epoch 1/100\n",
      "337/337 [==============================] - 2s 6ms/sample - loss: 1.0316 - mae: 0.8707 - val_loss: 0.9290 - val_mae: 0.8161\n",
      "Epoch 2/100\n",
      "337/337 [==============================] - 0s 582us/sample - loss: 1.0150 - mae: 0.8640 - val_loss: 0.8865 - val_mae: 0.7956\n",
      "Epoch 3/100\n",
      "337/337 [==============================] - 0s 591us/sample - loss: 0.9618 - mae: 0.8378 - val_loss: 0.7653 - val_mae: 0.7358\n",
      "Epoch 4/100\n",
      "337/337 [==============================] - 0s 591us/sample - loss: 0.8397 - mae: 0.7836 - val_loss: 0.5608 - val_mae: 0.6190\n",
      "Epoch 5/100\n",
      "337/337 [==============================] - 0s 583us/sample - loss: 0.6407 - mae: 0.6647 - val_loss: 0.4856 - val_mae: 0.5381\n",
      "Epoch 6/100\n",
      "337/337 [==============================] - 0s 586us/sample - loss: 0.7144 - mae: 0.6580 - val_loss: 0.4430 - val_mae: 0.5155\n",
      "Epoch 7/100\n",
      "337/337 [==============================] - 0s 592us/sample - loss: 0.5715 - mae: 0.6104 - val_loss: 0.4427 - val_mae: 0.5432\n",
      "Epoch 8/100\n",
      "337/337 [==============================] - 0s 329us/sample - loss: 0.5992 - mae: 0.6371 - val_loss: 0.4696 - val_mae: 0.5621\n",
      "Epoch 9/100\n",
      "337/337 [==============================] - 0s 346us/sample - loss: 0.5782 - mae: 0.6233 - val_loss: 0.4328 - val_mae: 0.5297\n",
      "Epoch 10/100\n",
      "337/337 [==============================] - 0s 585us/sample - loss: 0.5376 - mae: 0.5920 - val_loss: 0.4271 - val_mae: 0.5038\n",
      "Epoch 11/100\n",
      "337/337 [==============================] - 0s 592us/sample - loss: 0.5907 - mae: 0.6102 - val_loss: 0.4246 - val_mae: 0.5062\n",
      "Epoch 12/100\n",
      "337/337 [==============================] - 0s 586us/sample - loss: 0.5621 - mae: 0.6061 - val_loss: 0.4070 - val_mae: 0.5164\n",
      "Epoch 13/100\n",
      "337/337 [==============================] - 0s 594us/sample - loss: 0.5384 - mae: 0.5966 - val_loss: 0.4358 - val_mae: 0.5366\n",
      "Epoch 14/100\n",
      "337/337 [==============================] - 0s 584us/sample - loss: 0.5503 - mae: 0.5958 - val_loss: 0.4198 - val_mae: 0.5244\n",
      "Epoch 15/100\n",
      "337/337 [==============================] - 0s 601us/sample - loss: 0.5253 - mae: 0.5922 - val_loss: 0.3874 - val_mae: 0.4939\n",
      "Epoch 16/100\n",
      "337/337 [==============================] - 0s 583us/sample - loss: 0.5281 - mae: 0.5680 - val_loss: 0.4109 - val_mae: 0.5052\n",
      "Epoch 17/100\n",
      "337/337 [==============================] - 0s 591us/sample - loss: 0.5665 - mae: 0.5931 - val_loss: 0.4327 - val_mae: 0.5218\n",
      "Epoch 18/100\n",
      "337/337 [==============================] - 0s 590us/sample - loss: 0.5658 - mae: 0.6118 - val_loss: 0.4185 - val_mae: 0.5338\n",
      "Epoch 19/100\n",
      "337/337 [==============================] - 0s 592us/sample - loss: 0.5271 - mae: 0.6025 - val_loss: 0.4716 - val_mae: 0.5373\n",
      "Epoch 20/100\n",
      "337/337 [==============================] - 0s 582us/sample - loss: 0.5222 - mae: 0.5815 - val_loss: 0.4272 - val_mae: 0.4999\n",
      "Epoch 21/100\n",
      "337/337 [==============================] - 0s 592us/sample - loss: 0.4891 - mae: 0.5527 - val_loss: 0.4106 - val_mae: 0.5000\n",
      "Epoch 22/100\n",
      "337/337 [==============================] - 0s 590us/sample - loss: 0.5007 - mae: 0.5615 - val_loss: 0.4216 - val_mae: 0.5085\n",
      "Epoch 23/100\n",
      "337/337 [==============================] - 0s 565us/sample - loss: 0.5222 - mae: 0.5782 - val_loss: 0.4128 - val_mae: 0.5009\n",
      "Epoch 24/100\n",
      "337/337 [==============================] - 0s 594us/sample - loss: 0.5078 - mae: 0.5827 - val_loss: 0.4621 - val_mae: 0.5260\n",
      "Epoch 25/100\n",
      "337/337 [==============================] - 0s 335us/sample - loss: 0.4970 - mae: 0.5622 - val_loss: 0.3965 - val_mae: 0.5014\n",
      "Epoch 26/100\n",
      "337/337 [==============================] - 0s 589us/sample - loss: 0.5036 - mae: 0.5675 - val_loss: 0.4137 - val_mae: 0.5116\n",
      "Epoch 27/100\n",
      "337/337 [==============================] - 0s 584us/sample - loss: 0.5060 - mae: 0.5697 - val_loss: 0.4274 - val_mae: 0.5120\n",
      "Epoch 28/100\n",
      "337/337 [==============================] - 0s 591us/sample - loss: 0.4836 - mae: 0.5433 - val_loss: 0.4050 - val_mae: 0.4978\n",
      "Epoch 29/100\n",
      "337/337 [==============================] - 0s 585us/sample - loss: 0.5303 - mae: 0.5803 - val_loss: 0.4137 - val_mae: 0.5131\n",
      "Epoch 30/100\n",
      "337/337 [==============================] - 0s 587us/sample - loss: 0.4975 - mae: 0.5775 - val_loss: 0.4103 - val_mae: 0.5122\n",
      "Epoch 31/100\n",
      "337/337 [==============================] - 0s 575us/sample - loss: 0.4581 - mae: 0.5458 - val_loss: 0.4335 - val_mae: 0.5187\n",
      "Epoch 32/100\n",
      "337/337 [==============================] - 0s 600us/sample - loss: 0.4937 - mae: 0.5560 - val_loss: 0.4003 - val_mae: 0.4968\n",
      "Epoch 33/100\n",
      "337/337 [==============================] - 0s 601us/sample - loss: 0.4794 - mae: 0.5553 - val_loss: 0.4108 - val_mae: 0.5154\n",
      "Epoch 34/100\n",
      "337/337 [==============================] - 0s 596us/sample - loss: 0.4826 - mae: 0.5654 - val_loss: 0.4309 - val_mae: 0.5110\n",
      "Epoch 35/100\n",
      "337/337 [==============================] - 0s 582us/sample - loss: 0.4801 - mae: 0.5441 - val_loss: 0.4192 - val_mae: 0.4971\n",
      "Epoch 36/100\n",
      "337/337 [==============================] - 0s 592us/sample - loss: 0.4929 - mae: 0.5599 - val_loss: 0.4048 - val_mae: 0.4994\n",
      "Epoch 37/100\n",
      "337/337 [==============================] - 0s 569us/sample - loss: 0.4480 - mae: 0.5386 - val_loss: 0.4212 - val_mae: 0.5184\n",
      "Epoch 38/100\n",
      "337/337 [==============================] - 0s 332us/sample - loss: 0.4770 - mae: 0.5533 - val_loss: 0.4098 - val_mae: 0.5103\n",
      "Epoch 39/100\n",
      "337/337 [==============================] - 0s 590us/sample - loss: 0.4708 - mae: 0.5536 - val_loss: 0.4147 - val_mae: 0.5051\n",
      "Epoch 40/100\n",
      "337/337 [==============================] - 0s 585us/sample - loss: 0.4996 - mae: 0.5611 - val_loss: 0.4322 - val_mae: 0.5141\n",
      "Epoch 41/100\n",
      "337/337 [==============================] - 0s 585us/sample - loss: 0.4581 - mae: 0.5458 - val_loss: 0.4008 - val_mae: 0.5003\n",
      "Epoch 42/100\n",
      "337/337 [==============================] - 0s 582us/sample - loss: 0.4580 - mae: 0.5498 - val_loss: 0.4012 - val_mae: 0.4933\n",
      "Epoch 43/100\n",
      "337/337 [==============================] - 0s 581us/sample - loss: 0.4530 - mae: 0.5187 - val_loss: 0.4217 - val_mae: 0.4967\n",
      "Epoch 44/100\n",
      "337/337 [==============================] - 0s 334us/sample - loss: 0.4406 - mae: 0.5297 - val_loss: 0.4192 - val_mae: 0.5048\n",
      "Epoch 45/100\n",
      "337/337 [==============================] - 0s 347us/sample - loss: 0.4538 - mae: 0.5317 - val_loss: 0.4366 - val_mae: 0.5187\n",
      "Epoch 46/100\n",
      "337/337 [==============================] - 0s 585us/sample - loss: 0.4639 - mae: 0.5472 - val_loss: 0.4192 - val_mae: 0.5109\n",
      "Epoch 47/100\n",
      "337/337 [==============================] - 0s 583us/sample - loss: 0.4396 - mae: 0.5205 - val_loss: 0.4307 - val_mae: 0.4997\n",
      "Epoch 48/100\n",
      "337/337 [==============================] - 0s 590us/sample - loss: 0.4429 - mae: 0.5158 - val_loss: 0.4160 - val_mae: 0.4874\n",
      "Epoch 49/100\n",
      "337/337 [==============================] - 0s 585us/sample - loss: 0.4805 - mae: 0.5488 - val_loss: 0.4018 - val_mae: 0.4998\n",
      "Epoch 50/100\n",
      "337/337 [==============================] - 0s 590us/sample - loss: 0.4427 - mae: 0.5381 - val_loss: 0.4269 - val_mae: 0.5097\n",
      "Epoch 51/100\n",
      "337/337 [==============================] - 0s 585us/sample - loss: 0.4511 - mae: 0.5324 - val_loss: 0.3980 - val_mae: 0.4930\n",
      "Epoch 52/100\n",
      "337/337 [==============================] - 0s 588us/sample - loss: 0.4143 - mae: 0.5151 - val_loss: 0.4424 - val_mae: 0.5203\n",
      "Epoch 53/100\n",
      "337/337 [==============================] - 0s 584us/sample - loss: 0.4376 - mae: 0.5153 - val_loss: 0.4074 - val_mae: 0.4932\n",
      "Epoch 54/100\n",
      "337/337 [==============================] - 0s 333us/sample - loss: 0.4381 - mae: 0.5230 - val_loss: 0.4273 - val_mae: 0.5058\n",
      "Epoch 55/100\n",
      "337/337 [==============================] - 0s 345us/sample - loss: 0.4177 - mae: 0.5057 - val_loss: 0.4208 - val_mae: 0.5064\n",
      "Epoch 56/100\n",
      "337/337 [==============================] - 0s 586us/sample - loss: 0.4579 - mae: 0.5349 - val_loss: 0.4572 - val_mae: 0.5307\n",
      "Epoch 57/100\n",
      "337/337 [==============================] - 0s 582us/sample - loss: 0.4456 - mae: 0.5139 - val_loss: 0.4149 - val_mae: 0.5110\n",
      "Epoch 58/100\n",
      "337/337 [==============================] - 0s 592us/sample - loss: 0.4469 - mae: 0.5313 - val_loss: 0.4179 - val_mae: 0.5137\n",
      "Epoch 59/100\n",
      "337/337 [==============================] - 0s 588us/sample - loss: 0.4186 - mae: 0.5222 - val_loss: 0.4184 - val_mae: 0.5023\n",
      "Epoch 60/100\n",
      "337/337 [==============================] - 0s 588us/sample - loss: 0.4165 - mae: 0.5032 - val_loss: 0.4285 - val_mae: 0.5109\n",
      "Epoch 61/100\n",
      "337/337 [==============================] - 0s 583us/sample - loss: 0.3996 - mae: 0.4928 - val_loss: 0.4128 - val_mae: 0.4916\n",
      "Epoch 62/100\n",
      "337/337 [==============================] - 0s 581us/sample - loss: 0.4079 - mae: 0.5024 - val_loss: 0.4303 - val_mae: 0.5076\n",
      "Epoch 63/100\n",
      "337/337 [==============================] - 0s 327us/sample - loss: 0.4256 - mae: 0.5170 - val_loss: 0.4210 - val_mae: 0.5173\n",
      "Epoch 64/100\n",
      "337/337 [==============================] - 0s 592us/sample - loss: 0.4327 - mae: 0.5235 - val_loss: 0.4274 - val_mae: 0.5141\n",
      "Epoch 65/100\n",
      "337/337 [==============================] - 0s 589us/sample - loss: 0.4476 - mae: 0.5114 - val_loss: 0.4171 - val_mae: 0.5026\n",
      "Epoch 66/100\n",
      "337/337 [==============================] - 0s 585us/sample - loss: 0.4385 - mae: 0.5234 - val_loss: 0.4206 - val_mae: 0.5245\n",
      "Epoch 67/100\n",
      "337/337 [==============================] - 0s 593us/sample - loss: 0.4153 - mae: 0.5067 - val_loss: 0.4533 - val_mae: 0.5319\n",
      "Epoch 68/100\n",
      "337/337 [==============================] - 0s 582us/sample - loss: 0.3958 - mae: 0.4951 - val_loss: 0.4078 - val_mae: 0.4916\n",
      "Epoch 69/100\n",
      "337/337 [==============================] - 0s 579us/sample - loss: 0.4271 - mae: 0.5120 - val_loss: 0.4350 - val_mae: 0.5096\n",
      "Epoch 70/100\n",
      "337/337 [==============================] - 0s 589us/sample - loss: 0.4383 - mae: 0.5192 - val_loss: 0.4411 - val_mae: 0.5163\n",
      "Epoch 71/100\n",
      "337/337 [==============================] - 0s 325us/sample - loss: 0.4265 - mae: 0.5230 - val_loss: 0.4297 - val_mae: 0.5033\n",
      "Epoch 72/100\n",
      "337/337 [==============================] - 0s 339us/sample - loss: 0.4013 - mae: 0.4912 - val_loss: 0.4305 - val_mae: 0.5105\n",
      "Epoch 73/100\n",
      "337/337 [==============================] - 0s 591us/sample - loss: 0.4308 - mae: 0.5121 - val_loss: 0.4208 - val_mae: 0.5078\n",
      "Epoch 74/100\n",
      "337/337 [==============================] - 0s 583us/sample - loss: 0.4257 - mae: 0.5099 - val_loss: 0.4211 - val_mae: 0.5049\n",
      "Epoch 75/100\n",
      "337/337 [==============================] - 0s 587us/sample - loss: 0.4193 - mae: 0.5122 - val_loss: 0.4024 - val_mae: 0.4942\n",
      "Epoch 76/100\n",
      "337/337 [==============================] - 0s 590us/sample - loss: 0.3736 - mae: 0.4767 - val_loss: 0.4605 - val_mae: 0.5273\n",
      "Epoch 77/100\n",
      "337/337 [==============================] - 0s 576us/sample - loss: 0.4197 - mae: 0.5131 - val_loss: 0.4066 - val_mae: 0.4857\n",
      "Epoch 78/100\n",
      "337/337 [==============================] - 0s 330us/sample - loss: 0.3750 - mae: 0.4764 - val_loss: 0.4686 - val_mae: 0.5318\n",
      "Epoch 79/100\n",
      "337/337 [==============================] - 0s 341us/sample - loss: 0.3755 - mae: 0.4816 - val_loss: 0.4065 - val_mae: 0.5120\n",
      "Epoch 80/100\n",
      "337/337 [==============================] - 0s 338us/sample - loss: 0.4127 - mae: 0.5261 - val_loss: 0.4200 - val_mae: 0.5114\n",
      "Epoch 81/100\n",
      "337/337 [==============================] - 0s 582us/sample - loss: 0.3648 - mae: 0.4696 - val_loss: 0.4313 - val_mae: 0.5053\n",
      "Epoch 82/100\n",
      "337/337 [==============================] - 0s 585us/sample - loss: 0.3997 - mae: 0.4889 - val_loss: 0.4158 - val_mae: 0.4985\n",
      "Epoch 83/100\n",
      "337/337 [==============================] - 0s 592us/sample - loss: 0.3718 - mae: 0.4804 - val_loss: 0.4023 - val_mae: 0.4983\n",
      "Epoch 84/100\n",
      "337/337 [==============================] - 0s 590us/sample - loss: 0.3661 - mae: 0.4761 - val_loss: 0.4077 - val_mae: 0.4981\n",
      "Epoch 85/100\n",
      "337/337 [==============================] - 0s 570us/sample - loss: 0.3552 - mae: 0.4710 - val_loss: 0.4266 - val_mae: 0.4968\n",
      "Epoch 86/100\n",
      "337/337 [==============================] - 0s 334us/sample - loss: 0.3967 - mae: 0.4821 - val_loss: 0.4449 - val_mae: 0.5147\n",
      "Epoch 87/100\n",
      "337/337 [==============================] - 0s 337us/sample - loss: 0.3650 - mae: 0.4758 - val_loss: 0.4390 - val_mae: 0.5209\n",
      "Epoch 88/100\n",
      "337/337 [==============================] - 0s 586us/sample - loss: 0.3729 - mae: 0.4752 - val_loss: 0.4618 - val_mae: 0.5399\n",
      "Epoch 89/100\n",
      "337/337 [==============================] - 0s 592us/sample - loss: 0.4281 - mae: 0.5208 - val_loss: 0.4242 - val_mae: 0.5098\n",
      "Epoch 90/100\n",
      "337/337 [==============================] - 0s 583us/sample - loss: 0.3655 - mae: 0.4676 - val_loss: 0.4236 - val_mae: 0.5043\n",
      "Epoch 91/100\n",
      "337/337 [==============================] - 0s 582us/sample - loss: 0.3662 - mae: 0.4763 - val_loss: 0.4213 - val_mae: 0.5002\n",
      "Epoch 92/100\n",
      "337/337 [==============================] - 0s 591us/sample - loss: 0.3619 - mae: 0.4657 - val_loss: 0.4221 - val_mae: 0.4981\n",
      "Epoch 93/100\n",
      "337/337 [==============================] - 0s 594us/sample - loss: 0.4051 - mae: 0.4976 - val_loss: 0.4282 - val_mae: 0.5053\n",
      "Epoch 94/100\n",
      "337/337 [==============================] - 0s 571us/sample - loss: 0.3528 - mae: 0.4641 - val_loss: 0.4336 - val_mae: 0.5068\n",
      "Epoch 95/100\n",
      "337/337 [==============================] - 0s 336us/sample - loss: 0.3679 - mae: 0.4789 - val_loss: 0.4275 - val_mae: 0.5050\n",
      "Epoch 96/100\n",
      "337/337 [==============================] - 0s 592us/sample - loss: 0.3448 - mae: 0.4639 - val_loss: 0.4276 - val_mae: 0.5092\n",
      "Epoch 97/100\n",
      "337/337 [==============================] - 0s 583us/sample - loss: 0.3501 - mae: 0.4617 - val_loss: 0.4258 - val_mae: 0.5098\n",
      "Epoch 98/100\n",
      "337/337 [==============================] - 0s 582us/sample - loss: 0.3477 - mae: 0.4572 - val_loss: 0.4366 - val_mae: 0.5305\n",
      "Epoch 99/100\n",
      "337/337 [==============================] - 0s 584us/sample - loss: 0.3459 - mae: 0.4574 - val_loss: 0.4407 - val_mae: 0.5132\n",
      "Epoch 100/100\n",
      "337/337 [==============================] - 0s 581us/sample - loss: 0.3783 - mae: 0.4839 - val_loss: 0.4643 - val_mae: 0.5275\n"
     ]
    }
   ],
   "source": [
    "# Train the model, with some of the data reserved for validation\n",
    "history = model.fit(train_data, train_target, epochs=100, validation_split=0.15, batch_size=64)\n"
   ]
  },
  {
   "cell_type": "code",
   "execution_count": 28,
   "metadata": {},
   "outputs": [
    {
     "name": "stdout",
     "output_type": "stream",
     "text": [
      "45/1 - 0s - loss: 0.8269 - mae: 0.6789\n"
     ]
    },
    {
     "data": {
      "text/plain": [
       "[0.6747011701265971, 0.67891127]"
      ]
     },
     "execution_count": 28,
     "metadata": {},
     "output_type": "execute_result"
    }
   ],
   "source": [
    "# Evaluate the model on the test set\n",
    "model.evaluate(test_data, test_target, verbose=2)\n"
   ]
  },
  {
   "cell_type": "markdown",
   "metadata": {},
   "source": [
    "#### Plot the learning curves"
   ]
  },
  {
   "cell_type": "code",
   "execution_count": 29,
   "metadata": {},
   "outputs": [
    {
     "data": {
      "image/png": "[encoded data removed]",
      "text/plain": [
       "<Figure size 432x288 with 1 Axes>"
      ]
     },
     "metadata": {
      "needs_background": "light"
     },
     "output_type": "display_data"
    }
   ],
   "source": [
    "# Plot the training and validation loss\n",
    "\n",
    "import matplotlib.pyplot as plt\n",
    "\n",
    "plt.plot(history.history['loss'])\n",
    "plt.plot(history.history['val_loss'])\n",
    "plt.title('Loss vs. epochs')\n",
    "plt.ylabel('Loss')\n",
    "plt.xlabel('Epoch')\n",
    "plt.legend(['Training', 'Validation'], loc='upper right')\n",
    "plt.show()"
   ]
  },
  {
   "cell_type": "markdown",
   "metadata": {},
   "source": [
    "***\n",
    "<a id=\"coding_tutorial_3\"></a>\n",
    "## Introduction to callbacks"
   ]
  },
  {
   "cell_type": "markdown",
   "metadata": {},
   "source": [
    "#### Example training callback"
   ]
  },
  {
   "cell_type": "code",
   "execution_count": 33,
   "metadata": {},
   "outputs": [],
   "source": [
    "# Write a custom callback\n",
    "\n",
    "from tensorflow.keras.callbacks import Callback\n",
    "class TrainingCallback(Callback):\n",
    "    def on_train_begin(self, logs=None):\n",
    "        print('starting training ...')\n",
    "        \n",
    "    def on_train_end(self, logs=None):\n",
    "        print(\"Finished training!\")\n",
    "\n",
    "    def on_epoch_begin(self, epoch, logs=None):\n",
    "        print(f'starting epoch {epoch}')\n",
    "        \n",
    "    def on_epoch_end(self, epoch, logs=None):\n",
    "        print(f\"Finish epoch {epoch}\")\n",
    "        \n",
    "    def on_train_batch_begin(self, batch, logs=None):\n",
    "        print(f\"Training: Starting batch {batch}\")\n",
    "\n",
    "    def on_train_batch_end(self, batch, logs=None):\n",
    "        print(f\"Training: Finished batch {batch}\")\n",
    "\n",
    "        \n",
    "        "
   ]
  },
  {
   "cell_type": "code",
   "execution_count": 39,
   "metadata": {},
   "outputs": [],
   "source": [
    "class TestingCallback(Callback):\n",
    "    def on_test_begin(self, logs=None):\n",
    "        print('starting testing ...')\n",
    "        \n",
    "    def on_test_end(self, logs=None):\n",
    "        print(\"Finished testing!\")\n",
    "        \n",
    "    def on_test_batch_begin(self, batch, logs=None):\n",
    "        print(f\"Testing: Starting batch {batch}\")\n",
    "\n",
    "    def on_test_batch_end(self, batch, logs=None):\n",
    "        print(f\"Testing: Finished batch {batch}\")\n"
   ]
  },
  {
   "cell_type": "code",
   "execution_count": 42,
   "metadata": {},
   "outputs": [],
   "source": [
    "class PredictionCallback(Callback):\n",
    "    def on_predict_begin(self, logs=None):\n",
    "        print('starting prediction ...')\n",
    "        \n",
    "    def on_predict_end(self, logs=None):\n",
    "        print(\"Finished predcition!\")\n",
    "        \n",
    "    def on_predict_batch_begin(self, batch, logs=None):\n",
    "        print(f\"Predcition: Starting batch {batch}\")\n",
    "\n",
    "    def on_predict_batch_end(self, batch, logs=None):\n",
    "        print(f\"Prediction: Finished batch {batch}\")\n"
   ]
  },
  {
   "cell_type": "code",
   "execution_count": 34,
   "metadata": {},
   "outputs": [],
   "source": [
    "# Re-build the model\n",
    "model = get_regularised_model(1e-5, 0.3)\n"
   ]
  },
  {
   "cell_type": "code",
   "execution_count": 35,
   "metadata": {},
   "outputs": [],
   "source": [
    "# Compile the model\n",
    "model.compile(optimizer='adam', loss=\"mse\")\n",
    "\n"
   ]
  },
  {
   "cell_type": "markdown",
   "metadata": {},
   "source": [
    "#### Train the model with the callback"
   ]
  },
  {
   "cell_type": "code",
   "execution_count": 36,
   "metadata": {},
   "outputs": [
    {
     "name": "stdout",
     "output_type": "stream",
     "text": [
      "starting training ...\n",
      "starting epoch 0\n",
      "Training: Starting batch 0\n",
      "Training: Finished batch 0\n",
      "Training: Starting batch 1\n",
      "Training: Finished batch 1\n",
      "Training: Starting batch 2\n",
      "Training: Finished batch 2\n",
      "Training: Starting batch 3\n",
      "Training: Finished batch 3\n",
      "Finish epoch 0\n",
      "starting epoch 1\n",
      "Training: Starting batch 0\n",
      "Training: Finished batch 0\n",
      "Training: Starting batch 1\n",
      "Training: Finished batch 1\n",
      "Training: Starting batch 2\n",
      "Training: Finished batch 2\n",
      "Training: Starting batch 3\n",
      "Training: Finished batch 3\n",
      "Finish epoch 1\n",
      "starting epoch 2\n",
      "Training: Starting batch 0\n",
      "Training: Finished batch 0\n",
      "Training: Starting batch 1\n",
      "Training: Finished batch 1\n",
      "Training: Starting batch 2\n",
      "Training: Finished batch 2\n",
      "Training: Starting batch 3\n",
      "Training: Finished batch 3\n",
      "Finish epoch 2\n",
      "Finished training!\n"
     ]
    },
    {
     "data": {
      "text/plain": [
       "<tensorflow.python.keras.callbacks.History at 0x7faa301f63c8>"
      ]
     },
     "execution_count": 36,
     "metadata": {},
     "output_type": "execute_result"
    }
   ],
   "source": [
    "# Train the model, with some of the data reserved for validation\n",
    "model.fit(train_data, train_target, epochs=3, batch_size=128, verbose=False, callbacks=[TrainingCallback()])\n",
    "\n"
   ]
  },
  {
   "cell_type": "code",
   "execution_count": 40,
   "metadata": {},
   "outputs": [
    {
     "name": "stdout",
     "output_type": "stream",
     "text": [
      "starting testing ...\n",
      "Testing: Starting batch 0\n",
      "Testing: Finished batch 0\n",
      "Testing: Starting batch 1\n",
      "Testing: Finished batch 1\n",
      "Finished testing!\n"
     ]
    },
    {
     "data": {
      "text/plain": [
       "0.8475140823258294"
      ]
     },
     "execution_count": 40,
     "metadata": {},
     "output_type": "execute_result"
    }
   ],
   "source": [
    "# Evaluate the model\n",
    "model.evaluate(test_data, test_target, verbose=False, callbacks=[TestingCallback()])\n"
   ]
  },
  {
   "cell_type": "code",
   "execution_count": 43,
   "metadata": {},
   "outputs": [
    {
     "name": "stdout",
     "output_type": "stream",
     "text": [
      "starting prediction ...\n",
      "Predcition: Starting batch 0\n",
      "Prediction: Finished batch 0\n",
      "Predcition: Starting batch 1\n",
      "Prediction: Finished batch 1\n",
      "Finished predcition!\n"
     ]
    },
    {
     "data": {
      "text/plain": [
       "array([[ 0.02430552],\n",
       "       [-0.02703841],\n",
       "       [ 0.0410796 ],\n",
       "       [-0.07216578],\n",
       "       [-0.05309442],\n",
       "       [-0.01029731],\n",
       "       [-0.04444392],\n",
       "       [ 0.07416884],\n",
       "       [ 0.04287098],\n",
       "       [ 0.05841498],\n",
       "       [ 0.01584012],\n",
       "       [-0.05761549],\n",
       "       [ 0.05493436],\n",
       "       [-0.05672126],\n",
       "       [ 0.03637072],\n",
       "       [ 0.05585622],\n",
       "       [-0.04242731],\n",
       "       [-0.04710198],\n",
       "       [-0.00901864],\n",
       "       [-0.05093937],\n",
       "       [-0.00114534],\n",
       "       [-0.01636241],\n",
       "       [-0.03856927],\n",
       "       [ 0.03381255],\n",
       "       [ 0.07016781],\n",
       "       [ 0.06976017],\n",
       "       [-0.05135891],\n",
       "       [-0.00405456],\n",
       "       [ 0.00937402],\n",
       "       [ 0.02044425],\n",
       "       [ 0.03743752],\n",
       "       [-0.02455394],\n",
       "       [-0.05545646],\n",
       "       [ 0.01553068],\n",
       "       [-0.06663807],\n",
       "       [ 0.02822533],\n",
       "       [ 0.03559449],\n",
       "       [-0.04851934],\n",
       "       [-0.01565252],\n",
       "       [-0.04109919],\n",
       "       [ 0.04899086],\n",
       "       [ 0.03139076],\n",
       "       [-0.04618685],\n",
       "       [ 0.05305345],\n",
       "       [ 0.04476401]], dtype=float32)"
      ]
     },
     "execution_count": 43,
     "metadata": {},
     "output_type": "execute_result"
    }
   ],
   "source": [
    "# Make predictions with the model\n",
    "model.predict(test_data, verbose=False, callbacks=[PredictionCallback()])\n"
   ]
  },
  {
   "cell_type": "markdown",
   "metadata": {},
   "source": [
    "***\n",
    "<a id=\"coding_tutorial_4\"></a>\n",
    "## Early stopping / patience"
   ]
  },
  {
   "cell_type": "markdown",
   "metadata": {},
   "source": [
    "#### Re-train the models with early stopping"
   ]
  },
  {
   "cell_type": "code",
   "execution_count": 56,
   "metadata": {},
   "outputs": [],
   "source": [
    "# Re-train the unregularised model\n",
    "unregularised_model = get_model()\n",
    "unregularised_model.compile(optimizer='adam', loss='mse')\n",
    "unreg_history = unregularised_model.fit(train_data, train_target, epochs=100, validation_split=0.15, batch_size=64, \n",
    "                                        verbose=False, callbacks=[tf.keras.callbacks.EarlyStopping(patience=2)] )"
   ]
  },
  {
   "cell_type": "code",
   "execution_count": 57,
   "metadata": {},
   "outputs": [
    {
     "name": "stdout",
     "output_type": "stream",
     "text": [
      "45/1 - 0s - loss: 0.6372\n"
     ]
    },
    {
     "data": {
      "text/plain": [
       "0.6248942971229553"
      ]
     },
     "execution_count": 57,
     "metadata": {},
     "output_type": "execute_result"
    }
   ],
   "source": [
    "# Evaluate the model on the test set\n",
    "unregularised_model.evaluate(test_data, test_target, verbose=2)\n"
   ]
  },
  {
   "cell_type": "code",
   "execution_count": 58,
   "metadata": {},
   "outputs": [],
   "source": [
    "# Re-train the regularised model\n",
    "regularised_model = get_regularised_model(1e-8, 0.2)\n",
    "regularised_model.compile(optimizer='adam', loss='mse')\n",
    "reg_history = regularised_model.fit(train_data, train_target, epochs=100, validation_split=0.15, batch_size=64, verbose=False,\n",
    "                                   callbacks=[tf.keras.callbacks.EarlyStopping(patience=2)])"
   ]
  },
  {
   "cell_type": "code",
   "execution_count": 59,
   "metadata": {},
   "outputs": [
    {
     "name": "stdout",
     "output_type": "stream",
     "text": [
      "45/1 - 0s - loss: 0.6981\n"
     ]
    },
    {
     "data": {
      "text/plain": [
       "0.6859496606720819"
      ]
     },
     "execution_count": 59,
     "metadata": {},
     "output_type": "execute_result"
    }
   ],
   "source": [
    "# Evaluate the model on the test set\n",
    "regularised_model.evaluate(test_data, test_target, verbose=2 )\n"
   ]
  },
  {
   "cell_type": "markdown",
   "metadata": {},
   "source": [
    "#### Plot the learning curves"
   ]
  },
  {
   "cell_type": "code",
   "execution_count": 60,
   "metadata": {},
   "outputs": [
    {
     "data": {
      "image/png": "[encoded data removed]",
      "text/plain": [
       "<Figure size 864x360 with 2 Axes>"
      ]
     },
     "metadata": {
      "needs_background": "light"
     },
     "output_type": "display_data"
    }
   ],
   "source": [
    "# Plot the training and validation loss\n",
    "\n",
    "import matplotlib.pyplot as plt\n",
    "\n",
    "fig = plt.figure(figsize=(12, 5))\n",
    "\n",
    "fig.add_subplot(121)\n",
    "\n",
    "plt.plot(unreg_history.history['loss'])\n",
    "plt.plot(unreg_history.history['val_loss'])\n",
    "plt.title('Unregularised model: loss vs. epochs')\n",
    "plt.ylabel('Loss')\n",
    "plt.xlabel('Epoch')\n",
    "plt.legend(['Training', 'Validation'], loc='upper right')\n",
    "\n",
    "fig.add_subplot(122)\n",
    "\n",
    "plt.plot(reg_history.history['loss'])\n",
    "plt.plot(reg_history.history['val_loss'])\n",
    "plt.title('Regularised model: loss vs. epochs')\n",
    "plt.ylabel('Loss')\n",
    "plt.xlabel('Epoch')\n",
    "plt.legend(['Training', 'Validation'], loc='upper right')\n",
    "\n",
    "plt.show()"
   ]
  },
  {
   "cell_type": "code",
   "execution_count": null,
   "metadata": {},
   "outputs": [],
   "source": []
  }
 ],
 "metadata": {
  "kernelspec": {
   "display_name": "Python 3",
   "language": "python",
   "name": "python3"
  },
  "language_info": {
   "codemirror_mode": {
    "name": "ipython",
    "version": 3
   },
   "file_extension": ".py",
   "mimetype": "text/x-python",
   "name": "python",
   "nbconvert_exporter": "python",
   "pygments_lexer": "ipython3",
   "version": "3.7.1"
  }
 },
 "nbformat": 4,
 "nbformat_minor": 2
}
